{
 "cells": [
  {
   "cell_type": "code",
   "execution_count": 187,
   "id": "730178e8",
   "metadata": {},
   "outputs": [],
   "source": [
    "import numpy as np\n",
    "import pandas as pd\n",
    "import matplotlib.pyplot as plt"
   ]
  },
  {
   "cell_type": "markdown",
   "id": "53261d5e",
   "metadata": {},
   "source": [
    "### Load in real ERP data from HNN-GUI example"
   ]
  },
  {
   "cell_type": "code",
   "execution_count": 188,
   "id": "d3f559f5",
   "metadata": {
    "scrolled": false
   },
   "outputs": [
    {
     "data": {
      "text/html": [
       "<div>\n",
       "<style scoped>\n",
       "    .dataframe tbody tr th:only-of-type {\n",
       "        vertical-align: middle;\n",
       "    }\n",
       "\n",
       "    .dataframe tbody tr th {\n",
       "        vertical-align: top;\n",
       "    }\n",
       "\n",
       "    .dataframe thead th {\n",
       "        text-align: right;\n",
       "    }\n",
       "</style>\n",
       "<table border=\"1\" class=\"dataframe\">\n",
       "  <thead>\n",
       "    <tr style=\"text-align: right;\">\n",
       "      <th></th>\n",
       "      <th>0</th>\n",
       "      <th>1</th>\n",
       "    </tr>\n",
       "  </thead>\n",
       "  <tbody>\n",
       "    <tr>\n",
       "      <th>0</th>\n",
       "      <td>0.000000</td>\n",
       "      <td>-3.638991</td>\n",
       "    </tr>\n",
       "    <tr>\n",
       "      <th>1</th>\n",
       "      <td>1.664960</td>\n",
       "      <td>-1.490771</td>\n",
       "    </tr>\n",
       "    <tr>\n",
       "      <th>2</th>\n",
       "      <td>3.329920</td>\n",
       "      <td>-0.021023</td>\n",
       "    </tr>\n",
       "    <tr>\n",
       "      <th>3</th>\n",
       "      <td>4.994880</td>\n",
       "      <td>-0.087474</td>\n",
       "    </tr>\n",
       "    <tr>\n",
       "      <th>4</th>\n",
       "      <td>6.659840</td>\n",
       "      <td>-0.722413</td>\n",
       "    </tr>\n",
       "    <tr>\n",
       "      <th>...</th>\n",
       "      <td>...</td>\n",
       "      <td>...</td>\n",
       "    </tr>\n",
       "    <tr>\n",
       "      <th>98</th>\n",
       "      <td>163.166091</td>\n",
       "      <td>52.665098</td>\n",
       "    </tr>\n",
       "    <tr>\n",
       "      <th>99</th>\n",
       "      <td>164.831051</td>\n",
       "      <td>50.450053</td>\n",
       "    </tr>\n",
       "    <tr>\n",
       "      <th>100</th>\n",
       "      <td>166.496011</td>\n",
       "      <td>48.205214</td>\n",
       "    </tr>\n",
       "    <tr>\n",
       "      <th>101</th>\n",
       "      <td>168.160971</td>\n",
       "      <td>46.364935</td>\n",
       "    </tr>\n",
       "    <tr>\n",
       "      <th>102</th>\n",
       "      <td>169.825931</td>\n",
       "      <td>44.905828</td>\n",
       "    </tr>\n",
       "  </tbody>\n",
       "</table>\n",
       "<p>103 rows × 2 columns</p>\n",
       "</div>"
      ],
      "text/plain": [
       "              0          1\n",
       "0      0.000000  -3.638991\n",
       "1      1.664960  -1.490771\n",
       "2      3.329920  -0.021023\n",
       "3      4.994880  -0.087474\n",
       "4      6.659840  -0.722413\n",
       "..          ...        ...\n",
       "98   163.166091  52.665098\n",
       "99   164.831051  50.450053\n",
       "100  166.496011  48.205214\n",
       "101  168.160971  46.364935\n",
       "102  169.825931  44.905828\n",
       "\n",
       "[103 rows x 2 columns]"
      ]
     },
     "execution_count": 188,
     "metadata": {},
     "output_type": "execute_result"
    }
   ],
   "source": [
    "yes_data = np.loadtxt(\"HNN-GUI_Real_ERP_data/yes_trial_S1_ERP_all_avg.txt\", dtype=float)\n",
    "yes_data = pd.DataFrame(yes_data)\n",
    "yes_data"
   ]
  },
  {
   "cell_type": "code",
   "execution_count": 189,
   "id": "02083910",
   "metadata": {
    "scrolled": true
   },
   "outputs": [
    {
     "data": {
      "text/plain": [
       "[<matplotlib.lines.Line2D at 0x29f3bb730>]"
      ]
     },
     "execution_count": 189,
     "metadata": {},
     "output_type": "execute_result"
    },
    {
     "data": {
      "image/png": "[encoded data removed]",
      "text/plain": [
       "<Figure size 640x480 with 1 Axes>"
      ]
     },
     "metadata": {},
     "output_type": "display_data"
    }
   ],
   "source": [
    "plt.plot(yes_data.iloc[:,1].T)"
   ]
  },
  {
   "cell_type": "code",
   "execution_count": 190,
   "id": "bd2e8ad0",
   "metadata": {},
   "outputs": [
    {
     "data": {
      "text/html": [
       "<div>\n",
       "<style scoped>\n",
       "    .dataframe tbody tr th:only-of-type {\n",
       "        vertical-align: middle;\n",
       "    }\n",
       "\n",
       "    .dataframe tbody tr th {\n",
       "        vertical-align: top;\n",
       "    }\n",
       "\n",
       "    .dataframe thead th {\n",
       "        text-align: right;\n",
       "    }\n",
       "</style>\n",
       "<table border=\"1\" class=\"dataframe\">\n",
       "  <thead>\n",
       "    <tr style=\"text-align: right;\">\n",
       "      <th></th>\n",
       "      <th>0</th>\n",
       "      <th>1</th>\n",
       "    </tr>\n",
       "  </thead>\n",
       "  <tbody>\n",
       "    <tr>\n",
       "      <th>0</th>\n",
       "      <td>0.000000</td>\n",
       "      <td>-17.391097</td>\n",
       "    </tr>\n",
       "    <tr>\n",
       "      <th>1</th>\n",
       "      <td>1.664960</td>\n",
       "      <td>-17.522803</td>\n",
       "    </tr>\n",
       "    <tr>\n",
       "      <th>2</th>\n",
       "      <td>3.329920</td>\n",
       "      <td>-16.434230</td>\n",
       "    </tr>\n",
       "    <tr>\n",
       "      <th>3</th>\n",
       "      <td>4.994880</td>\n",
       "      <td>-14.408149</td>\n",
       "    </tr>\n",
       "    <tr>\n",
       "      <th>4</th>\n",
       "      <td>6.659840</td>\n",
       "      <td>-12.348419</td>\n",
       "    </tr>\n",
       "    <tr>\n",
       "      <th>...</th>\n",
       "      <td>...</td>\n",
       "      <td>...</td>\n",
       "    </tr>\n",
       "    <tr>\n",
       "      <th>98</th>\n",
       "      <td>163.166091</td>\n",
       "      <td>24.583799</td>\n",
       "    </tr>\n",
       "    <tr>\n",
       "      <th>99</th>\n",
       "      <td>164.831051</td>\n",
       "      <td>23.377644</td>\n",
       "    </tr>\n",
       "    <tr>\n",
       "      <th>100</th>\n",
       "      <td>166.496011</td>\n",
       "      <td>22.072480</td>\n",
       "    </tr>\n",
       "    <tr>\n",
       "      <th>101</th>\n",
       "      <td>168.160971</td>\n",
       "      <td>20.803446</td>\n",
       "    </tr>\n",
       "    <tr>\n",
       "      <th>102</th>\n",
       "      <td>169.825931</td>\n",
       "      <td>20.339855</td>\n",
       "    </tr>\n",
       "  </tbody>\n",
       "</table>\n",
       "<p>103 rows × 2 columns</p>\n",
       "</div>"
      ],
      "text/plain": [
       "              0          1\n",
       "0      0.000000 -17.391097\n",
       "1      1.664960 -17.522803\n",
       "2      3.329920 -16.434230\n",
       "3      4.994880 -14.408149\n",
       "4      6.659840 -12.348419\n",
       "..          ...        ...\n",
       "98   163.166091  24.583799\n",
       "99   164.831051  23.377644\n",
       "100  166.496011  22.072480\n",
       "101  168.160971  20.803446\n",
       "102  169.825931  20.339855\n",
       "\n",
       "[103 rows x 2 columns]"
      ]
     },
     "execution_count": 190,
     "metadata": {},
     "output_type": "execute_result"
    }
   ],
   "source": [
    "no_data = np.loadtxt(\"HNN-GUI_Real_ERP_data/no_trial_S1_ERP_all_avg.txt\", dtype=float)\n",
    "no_data = pd.DataFrame(no_data)\n",
    "no_data"
   ]
  },
  {
   "cell_type": "code",
   "execution_count": 191,
   "id": "e625d27c",
   "metadata": {},
   "outputs": [
    {
     "data": {
      "text/plain": [
       "[<matplotlib.lines.Line2D at 0x2c110e200>]"
      ]
     },
     "execution_count": 191,
     "metadata": {},
     "output_type": "execute_result"
    },
    {
     "data": {
      "image/png": "[encoded data removed]",
      "text/plain": [
       "<Figure size 640x480 with 1 Axes>"
      ]
     },
     "metadata": {},
     "output_type": "display_data"
    }
   ],
   "source": [
    "plt.plot(no_data[1])"
   ]
  },
  {
   "cell_type": "markdown",
   "id": "55d3cc69",
   "metadata": {},
   "source": [
    "### resample the data so that the number of time points matches the hnn-core simulations"
   ]
  },
  {
   "cell_type": "code",
   "execution_count": 192,
   "id": "3d85fc54",
   "metadata": {},
   "outputs": [
    {
     "data": {
      "text/html": [
       "<div>\n",
       "<style scoped>\n",
       "    .dataframe tbody tr th:only-of-type {\n",
       "        vertical-align: middle;\n",
       "    }\n",
       "\n",
       "    .dataframe tbody tr th {\n",
       "        vertical-align: top;\n",
       "    }\n",
       "\n",
       "    .dataframe thead th {\n",
       "        text-align: right;\n",
       "    }\n",
       "</style>\n",
       "<table border=\"1\" class=\"dataframe\">\n",
       "  <thead>\n",
       "    <tr style=\"text-align: right;\">\n",
       "      <th></th>\n",
       "      <th>value</th>\n",
       "    </tr>\n",
       "    <tr>\n",
       "      <th>time</th>\n",
       "      <th></th>\n",
       "    </tr>\n",
       "  </thead>\n",
       "  <tbody>\n",
       "    <tr>\n",
       "      <th>1970-01-01 00:00:00.000</th>\n",
       "      <td>-3.638991</td>\n",
       "    </tr>\n",
       "    <tr>\n",
       "      <th>1970-01-01 00:00:00.500</th>\n",
       "      <td>-2.922918</td>\n",
       "    </tr>\n",
       "    <tr>\n",
       "      <th>1970-01-01 00:00:01.000</th>\n",
       "      <td>-2.206844</td>\n",
       "    </tr>\n",
       "    <tr>\n",
       "      <th>1970-01-01 00:00:01.500</th>\n",
       "      <td>-1.490771</td>\n",
       "    </tr>\n",
       "    <tr>\n",
       "      <th>1970-01-01 00:00:02.000</th>\n",
       "      <td>-1.000855</td>\n",
       "    </tr>\n",
       "    <tr>\n",
       "      <th>...</th>\n",
       "      <td>...</td>\n",
       "    </tr>\n",
       "    <tr>\n",
       "      <th>1970-01-01 00:02:48.000</th>\n",
       "      <td>46.364935</td>\n",
       "    </tr>\n",
       "    <tr>\n",
       "      <th>1970-01-01 00:02:48.500</th>\n",
       "      <td>45.878566</td>\n",
       "    </tr>\n",
       "    <tr>\n",
       "      <th>1970-01-01 00:02:49.000</th>\n",
       "      <td>45.392197</td>\n",
       "    </tr>\n",
       "    <tr>\n",
       "      <th>1970-01-01 00:02:49.500</th>\n",
       "      <td>44.905828</td>\n",
       "    </tr>\n",
       "    <tr>\n",
       "      <th>1970-01-01 00:02:50.000</th>\n",
       "      <td>44.662643</td>\n",
       "    </tr>\n",
       "  </tbody>\n",
       "</table>\n",
       "<p>341 rows × 1 columns</p>\n",
       "</div>"
      ],
      "text/plain": [
       "                             value\n",
       "time                              \n",
       "1970-01-01 00:00:00.000  -3.638991\n",
       "1970-01-01 00:00:00.500  -2.922918\n",
       "1970-01-01 00:00:01.000  -2.206844\n",
       "1970-01-01 00:00:01.500  -1.490771\n",
       "1970-01-01 00:00:02.000  -1.000855\n",
       "...                            ...\n",
       "1970-01-01 00:02:48.000  46.364935\n",
       "1970-01-01 00:02:48.500  45.878566\n",
       "1970-01-01 00:02:49.000  45.392197\n",
       "1970-01-01 00:02:49.500  44.905828\n",
       "1970-01-01 00:02:50.000  44.662643\n",
       "\n",
       "[341 rows x 1 columns]"
      ]
     },
     "execution_count": 192,
     "metadata": {},
     "output_type": "execute_result"
    }
   ],
   "source": [
    "yes_data['time'] = pd.to_datetime(yes_data[0], unit='s')\n",
    "yes_data = yes_data.drop(0, axis=1)\n",
    "yes_data.set_index('time', inplace=True)\n",
    "yes_data.columns = ['value']\n",
    "yes_data=yes_data.resample('500ms').first().interpolate()\n",
    "time_at_341 = pd.to_datetime('1970-01-01 00:02:50.000')\n",
    "value_at_341 = yes_data.iloc[-1]['value'] + (yes_data.iloc[-1]['value'] - yes_data.iloc[-2]['value']) / 2\n",
    "yes_data.loc[time_at_341] = value_at_341\n",
    "yes_data"
   ]
  },
  {
   "cell_type": "code",
   "execution_count": 193,
   "id": "3d185bc7",
   "metadata": {},
   "outputs": [
    {
     "data": {
      "text/plain": [
       "[<matplotlib.lines.Line2D at 0x2c14a01c0>]"
      ]
     },
     "execution_count": 193,
     "metadata": {},
     "output_type": "execute_result"
    },
    {
     "data": {
      "image/png": "[encoded data removed]",
      "text/plain": [
       "<Figure size 640x480 with 1 Axes>"
      ]
     },
     "metadata": {},
     "output_type": "display_data"
    }
   ],
   "source": [
    "plt.plot(yes_data.iloc[:,0].T)"
   ]
  },
  {
   "cell_type": "code",
   "execution_count": 194,
   "id": "f2bafca8",
   "metadata": {},
   "outputs": [
    {
     "data": {
      "text/html": [
       "<div>\n",
       "<style scoped>\n",
       "    .dataframe tbody tr th:only-of-type {\n",
       "        vertical-align: middle;\n",
       "    }\n",
       "\n",
       "    .dataframe tbody tr th {\n",
       "        vertical-align: top;\n",
       "    }\n",
       "\n",
       "    .dataframe thead th {\n",
       "        text-align: right;\n",
       "    }\n",
       "</style>\n",
       "<table border=\"1\" class=\"dataframe\">\n",
       "  <thead>\n",
       "    <tr style=\"text-align: right;\">\n",
       "      <th></th>\n",
       "      <th>value</th>\n",
       "    </tr>\n",
       "    <tr>\n",
       "      <th>time</th>\n",
       "      <th></th>\n",
       "    </tr>\n",
       "  </thead>\n",
       "  <tbody>\n",
       "    <tr>\n",
       "      <th>1970-01-01 00:00:00.000</th>\n",
       "      <td>-17.391097</td>\n",
       "    </tr>\n",
       "    <tr>\n",
       "      <th>1970-01-01 00:00:00.500</th>\n",
       "      <td>-17.434999</td>\n",
       "    </tr>\n",
       "    <tr>\n",
       "      <th>1970-01-01 00:00:01.000</th>\n",
       "      <td>-17.478901</td>\n",
       "    </tr>\n",
       "    <tr>\n",
       "      <th>1970-01-01 00:00:01.500</th>\n",
       "      <td>-17.522803</td>\n",
       "    </tr>\n",
       "    <tr>\n",
       "      <th>1970-01-01 00:00:02.000</th>\n",
       "      <td>-17.159945</td>\n",
       "    </tr>\n",
       "    <tr>\n",
       "      <th>...</th>\n",
       "      <td>...</td>\n",
       "    </tr>\n",
       "    <tr>\n",
       "      <th>1970-01-01 00:02:48.000</th>\n",
       "      <td>20.803446</td>\n",
       "    </tr>\n",
       "    <tr>\n",
       "      <th>1970-01-01 00:02:48.500</th>\n",
       "      <td>20.648916</td>\n",
       "    </tr>\n",
       "    <tr>\n",
       "      <th>1970-01-01 00:02:49.000</th>\n",
       "      <td>20.494385</td>\n",
       "    </tr>\n",
       "    <tr>\n",
       "      <th>1970-01-01 00:02:49.500</th>\n",
       "      <td>20.339855</td>\n",
       "    </tr>\n",
       "    <tr>\n",
       "      <th>1970-01-01 00:02:50.000</th>\n",
       "      <td>20.262590</td>\n",
       "    </tr>\n",
       "  </tbody>\n",
       "</table>\n",
       "<p>341 rows × 1 columns</p>\n",
       "</div>"
      ],
      "text/plain": [
       "                             value\n",
       "time                              \n",
       "1970-01-01 00:00:00.000 -17.391097\n",
       "1970-01-01 00:00:00.500 -17.434999\n",
       "1970-01-01 00:00:01.000 -17.478901\n",
       "1970-01-01 00:00:01.500 -17.522803\n",
       "1970-01-01 00:00:02.000 -17.159945\n",
       "...                            ...\n",
       "1970-01-01 00:02:48.000  20.803446\n",
       "1970-01-01 00:02:48.500  20.648916\n",
       "1970-01-01 00:02:49.000  20.494385\n",
       "1970-01-01 00:02:49.500  20.339855\n",
       "1970-01-01 00:02:50.000  20.262590\n",
       "\n",
       "[341 rows x 1 columns]"
      ]
     },
     "execution_count": 194,
     "metadata": {},
     "output_type": "execute_result"
    }
   ],
   "source": [
    "no_data['time'] = pd.to_datetime(no_data[0], unit='s')\n",
    "no_data = no_data.drop(0, axis=1)\n",
    "no_data.set_index('time', inplace=True)\n",
    "no_data.columns = ['value']\n",
    "no_data=no_data.resample('500ms').first().interpolate()\n",
    "time_at_341 = pd.to_datetime('1970-01-01 00:02:50.000')\n",
    "value_at_341 = no_data.iloc[-1]['value'] + (no_data.iloc[-1]['value'] - no_data.iloc[-2]['value']) / 2\n",
    "no_data.loc[time_at_341] = value_at_341\n",
    "no_data"
   ]
  },
  {
   "cell_type": "code",
   "execution_count": 195,
   "id": "9d7ac3b0",
   "metadata": {},
   "outputs": [
    {
     "data": {
      "text/plain": [
       "[<matplotlib.lines.Line2D at 0x2c124f1c0>]"
      ]
     },
     "execution_count": 195,
     "metadata": {},
     "output_type": "execute_result"
    },
    {
     "data": {
      "image/png": "[encoded data removed]",
      "text/plain": [
       "<Figure size 640x480 with 1 Axes>"
      ]
     },
     "metadata": {},
     "output_type": "display_data"
    }
   ],
   "source": [
    "plt.plot(no_data.iloc[:,0].T)"
   ]
  },
  {
   "cell_type": "code",
   "execution_count": null,
   "id": "18edda66",
   "metadata": {},
   "outputs": [],
   "source": []
  },
  {
   "cell_type": "code",
   "execution_count": 196,
   "id": "7e7f8f65",
   "metadata": {},
   "outputs": [],
   "source": [
    "# save yes_data, no_data\n",
    "\n",
    "np_yes_data = np.array(yes_data['value'])\n",
    "np_no_data = np.array(no_data['value'])\n",
    "\n",
    "torch.save(np_yes_data, 'Real_ERP_data/np_yes_data.pt')\n",
    "torch.save(np_no_data, 'Real_ERP_data/np_no_data.pt')"
   ]
  },
  {
   "cell_type": "code",
   "execution_count": null,
   "id": "30391c89",
   "metadata": {},
   "outputs": [],
   "source": []
  },
  {
   "cell_type": "markdown",
   "id": "0831b25b",
   "metadata": {},
   "source": [
    "### scale the simulated out: Read the tutorial for the correct “scaling factor”"
   ]
  },
  {
   "cell_type": "code",
   "execution_count": null,
   "id": "aece6345",
   "metadata": {},
   "outputs": [],
   "source": []
  },
  {
   "cell_type": "markdown",
   "id": "9542bae8",
   "metadata": {},
   "source": [
    "### smooth the hnn-core output waveform (smoothing window of 30 ms) (write inside of simulator function so it always returns a smoothed signal)\n",
    "\n",
    "signal = dpl[0].copy().smooth(30).data['agg']"
   ]
  },
  {
   "cell_type": "code",
   "execution_count": null,
   "id": "3d18f059",
   "metadata": {},
   "outputs": [],
   "source": []
  }
 ],
 "metadata": {
  "kernelspec": {
   "display_name": "2060",
   "language": "python",
   "name": "2060"
  },
  "language_info": {
   "codemirror_mode": {
    "name": "ipython",
    "version": 3
   },
   "file_extension": ".py",
   "mimetype": "text/x-python",
   "name": "python",
   "nbconvert_exporter": "python",
   "pygments_lexer": "ipython3",
   "version": "3.10.7"
  }
 },
 "nbformat": 4,
 "nbformat_minor": 5
}
