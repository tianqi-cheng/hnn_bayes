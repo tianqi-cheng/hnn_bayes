{
 "cells": [
  {
   "cell_type": "code",
   "execution_count": 46,
   "id": "62e9600c-0f25-444e-9025-73812098fcbe",
   "metadata": {},
   "outputs": [],
   "source": [
    "import torch\n",
    "from sbi import utils as utils\n",
    "from sbi import analysis as analysis\n",
    "from sbi.inference.base import infer\n",
    "\n",
    "import hnn_core\n",
    "import os.path as opx\n",
    "import matplotlib.pyplot as plt\n",
    "import time\n",
    "import numpy as np\n",
    "from hnn_core import jones_2009_model, simulate_dipole, read_params\n",
    "from hnn_core.network_models import add_erp_drives_to_jones_model"
   ]
  },
  {
   "cell_type": "code",
   "execution_count": 47,
   "id": "44b81639-8a81-4e98-9976-1c1dcf49a456",
   "metadata": {},
   "outputs": [],
   "source": [
    "def simulator(parameter_set):\n",
    "    \n",
    "    # net_sim = net.copy()\n",
    "    net_sim = jones_2009_model()\n",
    "    \n",
    "    parameter_set1 = parameter_set[0]\n",
    "    parameter_set2 = parameter_set[1]\n",
    "    \n",
    "    \n",
    "    # your code here that updates \"mu\" or mean time of drives using parameter theta\n",
    "    weights_ampa = {'L2_basket': 0.09, 'L2_pyramidal': 0.02, \n",
    "                'L5_basket': 0.2, 'L5_pyramidal': 8e-3}\n",
    "    synaptic_delays = {'L2_basket': 0.1, 'L2_pyramidal': 0.1,\n",
    "                   'L5_basket': 1.0, 'L5_pyramidal': 1.0}\n",
    "\n",
    "    net_sim.add_evoked_drive(name='evprox1', mu=parameter_set1, sigma=parameter_set2, numspikes=1,\n",
    "                     weights_ampa=weights_ampa, location='proximal',\n",
    "                     synaptic_delays=synaptic_delays)\n",
    "    \n",
    "    dpl = simulate_dipole(net_sim, dt=0.5, tstop=170) # , n_trials=2\n",
    "\n",
    "    return dpl[0].data['agg']"
   ]
  },
  {
   "cell_type": "markdown",
   "id": "87f0f999-a71b-4b7d-a3bb-19993365a601",
   "metadata": {},
   "source": [
    "### Step 1: sampling parameters from the prior ..."
   ]
  },
  {
   "cell_type": "code",
   "execution_count": 49,
   "id": "997ca652-0544-4bb3-bdd0-5b7b3edb0f70",
   "metadata": {},
   "outputs": [],
   "source": [
    "num_dim = 1\n",
    "prior1 = utils.BoxUniform(low=20 * torch.ones(num_dim), high=160 * torch.ones(num_dim))\n",
    "prior2 = utils.BoxUniform(low=0 * torch.ones(num_dim), high=30 * torch.ones(num_dim))\n",
    "\n",
    "# prior = util.BoxUniform(low=[20, 0], high=[160, 30])"
   ]
  },
  {
   "cell_type": "markdown",
   "id": "cf3ae33d-06e9-4dd6-9cc9-f4058c950498",
   "metadata": {},
   "source": [
    "### Step 1: ... simulating synthetic datasets from these parameters\n",
    "\n",
    "### Step 2: using a deep density estimation neural network to learn the (probabilistic) association between data (or data features) and underlying parameters, that is to learn statistical inference from simulated data."
   ]
  },
  {
   "cell_type": "markdown",
   "id": "d88b30d3-62b9-4b99-8409-397af2b29bff",
   "metadata": {},
   "source": [
    "SNPE"
   ]
  },
  {
   "cell_type": "code",
   "execution_count": 13,
   "id": "f31be658-c824-47e9-957e-7ce3ee7151fc",
   "metadata": {},
   "outputs": [
    {
     "name": "stdout",
     "output_type": "stream",
     "text": [
      "Joblib will run 1 trial(s) in parallel by distributing trials over 1 jobs.\n",
      "Building the NEURON model\n",
      "[Done]\n",
      "Trial 1: 0.5 ms...\n",
      "Trial 1: 10.0 ms...\n",
      "Trial 1: 20.0 ms...\n",
      "Trial 1: 30.0 ms...\n",
      "Trial 1: 40.0 ms...\n",
      "Trial 1: 50.0 ms...\n",
      "Trial 1: 60.0 ms...\n",
      "Trial 1: 70.0 ms...\n",
      "Trial 1: 80.0 ms...\n",
      "Trial 1: 90.0 ms...\n",
      "Trial 1: 100.0 ms...\n",
      "Trial 1: 110.0 ms...\n",
      "Trial 1: 120.0 ms...\n",
      "Trial 1: 130.0 ms...\n",
      "Trial 1: 140.0 ms...\n",
      "Trial 1: 150.0 ms...\n",
      "Trial 1: 160.0 ms...\n"
     ]
    },
    {
     "data": {
      "application/vnd.jupyter.widget-view+json": {
       "model_id": "848a6c197b734d34a1219bb2b8a3b3db",
       "version_major": 2,
       "version_minor": 0
      },
      "text/plain": [
       "Running 10 simulations.:   0%|          | 0/10 [00:00<?, ?it/s]"
      ]
     },
     "metadata": {},
     "output_type": "display_data"
    },
    {
     "name": "stdout",
     "output_type": "stream",
     "text": [
      "Joblib will run 1 trial(s) in parallel by distributing trials over 1 jobs.\n",
      "Building the NEURON model\n",
      "[Done]\n",
      "Trial 1: 0.5 ms...\n",
      "Trial 1: 10.0 ms...\n",
      "Trial 1: 20.0 ms...\n",
      "Trial 1: 30.0 ms...\n",
      "Trial 1: 40.0 ms...\n",
      "Trial 1: 50.0 ms...\n",
      "Trial 1: 60.0 ms...\n",
      "Trial 1: 70.0 ms...\n",
      "Trial 1: 80.0 ms...\n",
      "Trial 1: 90.0 ms...\n",
      "Trial 1: 100.0 ms...\n",
      "Trial 1: 110.0 ms...\n",
      "Trial 1: 120.0 ms...\n",
      "Trial 1: 130.0 ms...\n",
      "Trial 1: 140.0 ms...\n",
      "Trial 1: 150.0 ms...\n",
      "Trial 1: 160.0 ms...\n",
      "Joblib will run 1 trial(s) in parallel by distributing trials over 1 jobs.\n",
      "Building the NEURON model\n",
      "[Done]\n",
      "Trial 1: 0.5 ms...\n",
      "Trial 1: 10.0 ms...\n",
      "Trial 1: 20.0 ms...\n",
      "Trial 1: 30.0 ms...\n",
      "Trial 1: 40.0 ms...\n",
      "Trial 1: 50.0 ms...\n",
      "Trial 1: 60.0 ms...\n",
      "Trial 1: 70.0 ms...\n",
      "Trial 1: 80.0 ms...\n",
      "Trial 1: 90.0 ms...\n",
      "Trial 1: 100.0 ms...\n",
      "Trial 1: 110.0 ms...\n",
      "Trial 1: 120.0 ms...\n",
      "Trial 1: 130.0 ms...\n",
      "Trial 1: 140.0 ms...\n",
      "Trial 1: 150.0 ms...\n",
      "Trial 1: 160.0 ms...\n",
      "Joblib will run 1 trial(s) in parallel by distributing trials over 1 jobs.\n",
      "Building the NEURON model\n",
      "[Done]\n",
      "Trial 1: 0.5 ms...\n",
      "Trial 1: 10.0 ms...\n",
      "Trial 1: 20.0 ms...\n",
      "Trial 1: 30.0 ms...\n",
      "Trial 1: 40.0 ms...\n",
      "Trial 1: 50.0 ms...\n",
      "Trial 1: 60.0 ms...\n",
      "Trial 1: 70.0 ms...\n",
      "Trial 1: 80.0 ms...\n",
      "Trial 1: 90.0 ms...\n",
      "Trial 1: 100.0 ms...\n",
      "Trial 1: 110.0 ms...\n",
      "Trial 1: 120.0 ms...\n",
      "Trial 1: 130.0 ms...\n",
      "Trial 1: 140.0 ms...\n",
      "Trial 1: 150.0 ms...\n",
      "Trial 1: 160.0 ms...\n",
      "Joblib will run 1 trial(s) in parallel by distributing trials over 1 jobs.\n",
      "Building the NEURON model\n",
      "[Done]\n",
      "Trial 1: 0.5 ms...\n",
      "Trial 1: 10.0 ms...\n",
      "Trial 1: 20.0 ms...\n",
      "Trial 1: 30.0 ms...\n",
      "Trial 1: 40.0 ms...\n",
      "Trial 1: 50.0 ms...\n",
      "Trial 1: 60.0 ms...\n",
      "Trial 1: 70.0 ms...\n",
      "Trial 1: 80.0 ms...\n",
      "Trial 1: 90.0 ms...\n",
      "Trial 1: 100.0 ms...\n",
      "Trial 1: 110.0 ms...\n",
      "Trial 1: 120.0 ms...\n",
      "Trial 1: 130.0 ms...\n",
      "Trial 1: 140.0 ms...\n",
      "Trial 1: 150.0 ms...\n",
      "Trial 1: 160.0 ms...\n",
      "Joblib will run 1 trial(s) in parallel by distributing trials over 1 jobs.\n",
      "Building the NEURON model\n",
      "[Done]\n",
      "Trial 1: 0.5 ms...\n",
      "Trial 1: 10.0 ms...\n",
      "Trial 1: 20.0 ms...\n",
      "Trial 1: 30.0 ms...\n",
      "Trial 1: 40.0 ms...\n",
      "Trial 1: 50.0 ms...\n",
      "Trial 1: 60.0 ms...\n",
      "Trial 1: 70.0 ms...\n",
      "Trial 1: 80.0 ms...\n",
      "Trial 1: 90.0 ms...\n",
      "Trial 1: 100.0 ms...\n",
      "Trial 1: 110.0 ms...\n",
      "Trial 1: 120.0 ms...\n",
      "Trial 1: 130.0 ms...\n",
      "Trial 1: 140.0 ms...\n",
      "Trial 1: 150.0 ms...\n",
      "Trial 1: 160.0 ms...\n",
      "Joblib will run 1 trial(s) in parallel by distributing trials over 1 jobs.\n",
      "Building the NEURON model\n",
      "[Done]\n",
      "Trial 1: 0.5 ms...\n",
      "Trial 1: 10.0 ms...\n",
      "Trial 1: 20.0 ms...\n",
      "Trial 1: 30.0 ms...\n",
      "Trial 1: 40.0 ms...\n",
      "Trial 1: 50.0 ms...\n",
      "Trial 1: 60.0 ms...\n",
      "Trial 1: 70.0 ms...\n",
      "Trial 1: 80.0 ms...\n",
      "Trial 1: 90.0 ms...\n",
      "Trial 1: 100.0 ms...\n",
      "Trial 1: 110.0 ms...\n",
      "Trial 1: 120.0 ms...\n",
      "Trial 1: 130.0 ms...\n",
      "Trial 1: 140.0 ms...\n",
      "Trial 1: 150.0 ms...\n",
      "Trial 1: 160.0 ms...\n",
      "Joblib will run 1 trial(s) in parallel by distributing trials over 1 jobs.\n",
      "Building the NEURON model\n",
      "[Done]\n",
      "Trial 1: 0.5 ms...\n",
      "Trial 1: 10.0 ms...\n",
      "Trial 1: 20.0 ms...\n",
      "Trial 1: 30.0 ms...\n",
      "Trial 1: 40.0 ms...\n",
      "Trial 1: 50.0 ms...\n",
      "Trial 1: 60.0 ms...\n",
      "Trial 1: 70.0 ms...\n",
      "Trial 1: 80.0 ms...\n",
      "Trial 1: 90.0 ms...\n",
      "Trial 1: 100.0 ms...\n",
      "Trial 1: 110.0 ms...\n",
      "Trial 1: 120.0 ms...\n",
      "Trial 1: 130.0 ms...\n",
      "Trial 1: 140.0 ms...\n",
      "Trial 1: 150.0 ms...\n",
      "Trial 1: 160.0 ms...\n",
      "Joblib will run 1 trial(s) in parallel by distributing trials over 1 jobs.\n",
      "Building the NEURON model\n",
      "[Done]\n",
      "Trial 1: 0.5 ms...\n",
      "Trial 1: 10.0 ms...\n",
      "Trial 1: 20.0 ms...\n",
      "Trial 1: 30.0 ms...\n",
      "Trial 1: 40.0 ms...\n",
      "Trial 1: 50.0 ms...\n",
      "Trial 1: 60.0 ms...\n",
      "Trial 1: 70.0 ms...\n",
      "Trial 1: 80.0 ms...\n",
      "Trial 1: 90.0 ms...\n",
      "Trial 1: 100.0 ms...\n",
      "Trial 1: 110.0 ms...\n",
      "Trial 1: 120.0 ms...\n",
      "Trial 1: 130.0 ms...\n",
      "Trial 1: 140.0 ms...\n",
      "Trial 1: 150.0 ms...\n",
      "Trial 1: 160.0 ms...\n",
      "Joblib will run 1 trial(s) in parallel by distributing trials over 1 jobs.\n",
      "Building the NEURON model\n",
      "[Done]\n",
      "Trial 1: 0.5 ms...\n",
      "Trial 1: 10.0 ms...\n",
      "Trial 1: 20.0 ms...\n",
      "Trial 1: 30.0 ms...\n",
      "Trial 1: 40.0 ms...\n",
      "Trial 1: 50.0 ms...\n",
      "Trial 1: 60.0 ms...\n",
      "Trial 1: 70.0 ms...\n",
      "Trial 1: 80.0 ms...\n",
      "Trial 1: 90.0 ms...\n",
      "Trial 1: 100.0 ms...\n",
      "Trial 1: 110.0 ms...\n",
      "Trial 1: 120.0 ms...\n",
      "Trial 1: 130.0 ms...\n",
      "Trial 1: 140.0 ms...\n",
      "Trial 1: 150.0 ms...\n",
      "Trial 1: 160.0 ms...\n",
      "Joblib will run 1 trial(s) in parallel by distributing trials over 1 jobs.\n",
      "Building the NEURON model\n",
      "[Done]\n",
      "Trial 1: 0.5 ms...\n",
      "Trial 1: 10.0 ms...\n",
      "Trial 1: 20.0 ms...\n",
      "Trial 1: 30.0 ms...\n",
      "Trial 1: 40.0 ms...\n",
      "Trial 1: 50.0 ms...\n",
      "Trial 1: 60.0 ms...\n",
      "Trial 1: 70.0 ms...\n",
      "Trial 1: 80.0 ms...\n",
      "Trial 1: 90.0 ms...\n",
      "Trial 1: 100.0 ms...\n",
      "Trial 1: 110.0 ms...\n",
      "Trial 1: 120.0 ms...\n",
      "Trial 1: 130.0 ms...\n",
      "Trial 1: 140.0 ms...\n",
      "Trial 1: 150.0 ms...\n",
      "Trial 1: 160.0 ms...\n",
      " Neural network successfully converged after 67 epochs."
     ]
    }
   ],
   "source": [
    "posterior = infer(simulator, (prior1, prior2), method=\"SNPE\", num_simulations=10)"
   ]
  },
  {
   "cell_type": "markdown",
   "id": "1f199837-2e3a-46bf-969a-493b206056fc",
   "metadata": {},
   "source": [
    "### Step 3: This density estimation network is then applied to empirical data to derive the full space of parameters consistent with the data and the prior, that is, the posterior distribution. High posterior probability is assigned to parameters which are consistent with both the data and the prior, low probability to inconsistent parameters."
   ]
  },
  {
   "cell_type": "code",
   "execution_count": 52,
   "id": "dc9b7468-a0a3-4a81-a771-d8292894d01b",
   "metadata": {},
   "outputs": [
    {
     "name": "stdout",
     "output_type": "stream",
     "text": [
      "Joblib will run 1 trial(s) in parallel by distributing trials over 1 jobs.\n",
      "Building the NEURON model\n",
      "[Done]\n",
      "Trial 1: 0.5 ms...\n",
      "Trial 1: 10.0 ms...\n",
      "Trial 1: 20.0 ms...\n",
      "Trial 1: 30.0 ms...\n",
      "Trial 1: 40.0 ms...\n",
      "Trial 1: 50.0 ms...\n",
      "Trial 1: 60.0 ms...\n",
      "Trial 1: 70.0 ms...\n",
      "Trial 1: 80.0 ms...\n",
      "Trial 1: 90.0 ms...\n",
      "Trial 1: 100.0 ms...\n",
      "Trial 1: 110.0 ms...\n",
      "Trial 1: 120.0 ms...\n",
      "Trial 1: 130.0 ms...\n",
      "Trial 1: 140.0 ms...\n",
      "Trial 1: 150.0 ms...\n",
      "Trial 1: 160.0 ms...\n"
     ]
    }
   ],
   "source": [
    "# prior1 = utils.BoxUniform(low=20 * torch.ones(num_dim), high=160 * torch.ones(num_dim))\n",
    "# prior2 = utils.BoxUniform(low=0 * torch.ones(num_dim), high=30 * torch.ones(num_dim))\n",
    "observation = simulator((40, 15))"
   ]
  },
  {
   "cell_type": "code",
   "execution_count": 50,
   "id": "75a69ede-7b4d-4acf-b666-079764ba13bf",
   "metadata": {},
   "outputs": [],
   "source": [
    "# observation = torch.zeros(341)\n",
    "# # observation = torch.ones(341)\n",
    "observation = np.random.random(341)"
   ]
  },
  {
   "cell_type": "code",
   "execution_count": 53,
   "id": "74d49f49-c9fa-4bfe-8611-688cc8671134",
   "metadata": {},
   "outputs": [
    {
     "data": {
      "application/vnd.jupyter.widget-view+json": {
       "model_id": "6398c66e450d4e5fa2a2fbd205d93961",
       "version_major": 2,
       "version_minor": 0
      },
      "text/plain": [
       "Drawing 10000 posterior samples:   0%|          | 0/10000 [00:00<?, ?it/s]"
      ]
     },
     "metadata": {},
     "output_type": "display_data"
    },
    {
     "data": {
      "image/png": "[encoded data removed]",
      "text/plain": [
       "<Figure size 600x600 with 4 Axes>"
      ]
     },
     "metadata": {},
     "output_type": "display_data"
    }
   ],
   "source": [
    "samples = posterior.sample((10000,), x=observation)\n",
    "log_probability = posterior.log_prob(samples, x=observation)\n",
    "_ = analysis.pairplot(samples, limits=[[20, 160], [0, 30]], figsize=(6, 6))"
   ]
  },
  {
   "cell_type": "code",
   "execution_count": 55,
   "id": "c00177ad-f4b2-4867-8733-e7c148bc1c6b",
   "metadata": {},
   "outputs": [],
   "source": [
    "theta = (40, 15)"
   ]
  },
  {
   "cell_type": "code",
   "execution_count": 56,
   "id": "5a9e5de2-79c1-4385-9e29-e8cb1b77cb6a",
   "metadata": {},
   "outputs": [
    {
     "data": {
      "image/png": "[encoded data removed]",
      "text/plain": [
       "<Figure size 600x600 with 4 Axes>"
      ]
     },
     "metadata": {},
     "output_type": "display_data"
    }
   ],
   "source": [
    "_ = analysis.pairplot(samples, limits=[[20, 160], [0, 30]], figsize=(6, 6), points=theta)"
   ]
  },
  {
   "cell_type": "code",
   "execution_count": 58,
   "id": "9e7cb436-4fa4-4d70-9d03-5b2f3772ef51",
   "metadata": {},
   "outputs": [
    {
     "data": {
      "text/plain": [
       "[<matplotlib.lines.Line2D at 0x29e518670>]"
      ]
     },
     "execution_count": 58,
     "metadata": {},
     "output_type": "execute_result"
    },
    {
     "data": {
      "image/png": "[encoded data removed]",
      "text/plain": [
       "<Figure size 640x480 with 1 Axes>"
      ]
     },
     "metadata": {},
     "output_type": "display_data"
    }
   ],
   "source": [
    "plt.plot(observation)"
   ]
  },
  {
   "cell_type": "code",
   "execution_count": null,
   "id": "e4afcb7a-dd98-4add-b276-95ac1422d56d",
   "metadata": {},
   "outputs": [],
   "source": []
  },
  {
   "cell_type": "code",
   "execution_count": null,
   "id": "072a1a3c-cb7d-4d99-ba14-6b9ea6f7fabf",
   "metadata": {},
   "outputs": [],
   "source": []
  },
  {
   "cell_type": "code",
   "execution_count": 39,
   "id": "0dd1deea-47f5-4f32-8644-f778a926c10c",
   "metadata": {},
   "outputs": [
    {
     "name": "stdout",
     "output_type": "stream",
     "text": [
      "Posterior conditional density p(θ|x) of type DirectPosterior. It samples the posterior network and rejects samples that\n",
      "            lie outside of the prior bounds.\n"
     ]
    }
   ],
   "source": [
    "print(posterior)"
   ]
  },
  {
   "cell_type": "markdown",
   "id": "c6c0edf5-78f0-4785-b4ef-81940ef2a00d",
   "metadata": {},
   "source": [
    "SNLE"
   ]
  },
  {
   "cell_type": "code",
   "execution_count": 10,
   "id": "5d9c3ea8-5378-4c45-8470-dafb9445255f",
   "metadata": {},
   "outputs": [
    {
     "name": "stdout",
     "output_type": "stream",
     "text": [
      "Joblib will run 1 trial(s) in parallel by distributing trials over 1 jobs.\n",
      "Building the NEURON model\n",
      "[Done]\n",
      "Trial 1: 0.5 ms...\n",
      "Trial 1: 10.0 ms...\n",
      "Trial 1: 20.0 ms...\n",
      "Trial 1: 30.0 ms...\n",
      "Trial 1: 40.0 ms...\n",
      "Trial 1: 50.0 ms...\n",
      "Trial 1: 60.0 ms...\n",
      "Trial 1: 70.0 ms...\n",
      "Trial 1: 80.0 ms...\n",
      "Trial 1: 90.0 ms...\n",
      "Trial 1: 100.0 ms...\n",
      "Trial 1: 110.0 ms...\n",
      "Trial 1: 120.0 ms...\n",
      "Trial 1: 130.0 ms...\n",
      "Trial 1: 140.0 ms...\n",
      "Trial 1: 150.0 ms...\n",
      "Trial 1: 160.0 ms...\n"
     ]
    },
    {
     "data": {
      "application/vnd.jupyter.widget-view+json": {
       "model_id": "c17bf591036c4c979be32896ecca789b",
       "version_major": 2,
       "version_minor": 0
      },
      "text/plain": [
       "Running 5 simulations.:   0%|          | 0/5 [00:00<?, ?it/s]"
      ]
     },
     "metadata": {},
     "output_type": "display_data"
    },
    {
     "name": "stdout",
     "output_type": "stream",
     "text": [
      "Joblib will run 1 trial(s) in parallel by distributing trials over 1 jobs.\n",
      "Building the NEURON model\n",
      "[Done]\n",
      "Trial 1: 0.5 ms...\n",
      "Trial 1: 10.0 ms...\n",
      "Trial 1: 20.0 ms...\n",
      "Trial 1: 30.0 ms...\n",
      "Trial 1: 40.0 ms...\n",
      "Trial 1: 50.0 ms...\n",
      "Trial 1: 60.0 ms...\n",
      "Trial 1: 70.0 ms...\n",
      "Trial 1: 80.0 ms...\n",
      "Trial 1: 90.0 ms...\n",
      "Trial 1: 100.0 ms...\n",
      "Trial 1: 110.0 ms...\n",
      "Trial 1: 120.0 ms...\n",
      "Trial 1: 130.0 ms...\n",
      "Trial 1: 140.0 ms...\n",
      "Trial 1: 150.0 ms...\n",
      "Trial 1: 160.0 ms...\n",
      "Joblib will run 1 trial(s) in parallel by distributing trials over 1 jobs.\n",
      "Building the NEURON model\n",
      "[Done]\n",
      "Trial 1: 0.5 ms...\n",
      "Trial 1: 10.0 ms...\n",
      "Trial 1: 20.0 ms...\n",
      "Trial 1: 30.0 ms...\n",
      "Trial 1: 40.0 ms...\n",
      "Trial 1: 50.0 ms...\n",
      "Trial 1: 60.0 ms...\n",
      "Trial 1: 70.0 ms...\n",
      "Trial 1: 80.0 ms...\n",
      "Trial 1: 90.0 ms...\n",
      "Trial 1: 100.0 ms...\n",
      "Trial 1: 110.0 ms...\n",
      "Trial 1: 120.0 ms...\n",
      "Trial 1: 130.0 ms...\n",
      "Trial 1: 140.0 ms...\n",
      "Trial 1: 150.0 ms...\n",
      "Trial 1: 160.0 ms...\n",
      "Joblib will run 1 trial(s) in parallel by distributing trials over 1 jobs.\n",
      "Building the NEURON model\n",
      "[Done]\n",
      "Trial 1: 0.5 ms...\n",
      "Trial 1: 10.0 ms...\n",
      "Trial 1: 20.0 ms...\n",
      "Trial 1: 30.0 ms...\n",
      "Trial 1: 40.0 ms...\n",
      "Trial 1: 50.0 ms...\n",
      "Trial 1: 60.0 ms...\n",
      "Trial 1: 70.0 ms...\n",
      "Trial 1: 80.0 ms...\n",
      "Trial 1: 90.0 ms...\n",
      "Trial 1: 100.0 ms...\n",
      "Trial 1: 110.0 ms...\n",
      "Trial 1: 120.0 ms...\n",
      "Trial 1: 130.0 ms...\n",
      "Trial 1: 140.0 ms...\n",
      "Trial 1: 150.0 ms...\n",
      "Trial 1: 160.0 ms...\n",
      "Joblib will run 1 trial(s) in parallel by distributing trials over 1 jobs.\n",
      "Building the NEURON model\n",
      "[Done]\n",
      "Trial 1: 0.5 ms...\n",
      "Trial 1: 10.0 ms...\n",
      "Trial 1: 20.0 ms...\n",
      "Trial 1: 30.0 ms...\n",
      "Trial 1: 40.0 ms...\n",
      "Trial 1: 50.0 ms...\n",
      "Trial 1: 60.0 ms...\n",
      "Trial 1: 70.0 ms...\n",
      "Trial 1: 80.0 ms...\n",
      "Trial 1: 90.0 ms...\n",
      "Trial 1: 100.0 ms...\n",
      "Trial 1: 110.0 ms...\n",
      "Trial 1: 120.0 ms...\n",
      "Trial 1: 130.0 ms...\n",
      "Trial 1: 140.0 ms...\n",
      "Trial 1: 150.0 ms...\n",
      "Trial 1: 160.0 ms...\n",
      "Joblib will run 1 trial(s) in parallel by distributing trials over 1 jobs.\n",
      "Building the NEURON model\n",
      "[Done]\n",
      "Trial 1: 0.5 ms...\n",
      "Trial 1: 10.0 ms...\n",
      "Trial 1: 20.0 ms...\n",
      "Trial 1: 30.0 ms...\n",
      "Trial 1: 40.0 ms...\n",
      "Trial 1: 50.0 ms...\n",
      "Trial 1: 60.0 ms...\n",
      "Trial 1: 70.0 ms...\n",
      "Trial 1: 80.0 ms...\n",
      "Trial 1: 90.0 ms...\n",
      "Trial 1: 100.0 ms...\n",
      "Trial 1: 110.0 ms...\n",
      "Trial 1: 120.0 ms...\n",
      "Trial 1: 130.0 ms...\n",
      "Trial 1: 140.0 ms...\n",
      "Trial 1: 150.0 ms...\n",
      "Trial 1: 160.0 ms...\n",
      " Neural network successfully converged after 21 epochs."
     ]
    }
   ],
   "source": [
    "posterior = infer(simulator, (prior1, prior2), method=\"SNLE\", num_simulations=5)"
   ]
  },
  {
   "cell_type": "code",
   "execution_count": 11,
   "id": "796253a7-c9cb-41b9-abbb-c2362cb62c12",
   "metadata": {},
   "outputs": [
    {
     "data": {
      "application/vnd.jupyter.widget-view+json": {
       "model_id": "d69628b25b4c453aa5bf098599d8eaaf",
       "version_major": 2,
       "version_minor": 0
      },
      "text/plain": [
       "  0%|          | 0/50 [00:00<?, ?it/s]"
      ]
     },
     "metadata": {},
     "output_type": "display_data"
    },
    {
     "ename": "KeyboardInterrupt",
     "evalue": "",
     "output_type": "error",
     "traceback": [
      "\u001b[0;31m---------------------------------------------------------------------------\u001b[0m",
      "\u001b[0;31mKeyboardInterrupt\u001b[0m                         Traceback (most recent call last)",
      "Cell \u001b[0;32mIn[11], line 1\u001b[0m\n\u001b[0;32m----> 1\u001b[0m samples \u001b[38;5;241m=\u001b[39m \u001b[43mposterior\u001b[49m\u001b[38;5;241;43m.\u001b[39;49m\u001b[43msample\u001b[49m\u001b[43m(\u001b[49m\u001b[43m(\u001b[49m\u001b[38;5;241;43m100\u001b[39;49m\u001b[43m,\u001b[49m\u001b[43m)\u001b[49m\u001b[43m,\u001b[49m\u001b[43m \u001b[49m\u001b[43mx\u001b[49m\u001b[38;5;241;43m=\u001b[39;49m\u001b[43mobservation\u001b[49m\u001b[43m)\u001b[49m\n\u001b[1;32m      2\u001b[0m log_probability \u001b[38;5;241m=\u001b[39m posterior\u001b[38;5;241m.\u001b[39mlog_prob(samples, x\u001b[38;5;241m=\u001b[39mobservation)\n\u001b[1;32m      3\u001b[0m _ \u001b[38;5;241m=\u001b[39m analysis\u001b[38;5;241m.\u001b[39mpairplot(samples, limits\u001b[38;5;241m=\u001b[39m[[\u001b[38;5;241m20\u001b[39m, \u001b[38;5;241m160\u001b[39m], [\u001b[38;5;241m0\u001b[39m, \u001b[38;5;241m30\u001b[39m]], figsize\u001b[38;5;241m=\u001b[39m(\u001b[38;5;241m6\u001b[39m, \u001b[38;5;241m6\u001b[39m))\n",
      "File \u001b[0;32m~/opt/anaconda3/envs/2060/lib/python3.10/site-packages/sbi/inference/posteriors/mcmc_posterior.py:287\u001b[0m, in \u001b[0;36mMCMCPosterior.sample\u001b[0;34m(self, sample_shape, x, method, thin, warmup_steps, num_chains, init_strategy, init_strategy_parameters, init_strategy_num_candidates, mcmc_parameters, mcmc_method, sample_with, num_workers, show_progress_bars)\u001b[0m\n\u001b[1;32m    285\u001b[0m \u001b[38;5;28;01mwith\u001b[39;00m torch\u001b[38;5;241m.\u001b[39mset_grad_enabled(track_gradients):\n\u001b[1;32m    286\u001b[0m     \u001b[38;5;28;01mif\u001b[39;00m method \u001b[38;5;129;01min\u001b[39;00m (\u001b[38;5;124m\"\u001b[39m\u001b[38;5;124mslice_np\u001b[39m\u001b[38;5;124m\"\u001b[39m, \u001b[38;5;124m\"\u001b[39m\u001b[38;5;124mslice_np_vectorized\u001b[39m\u001b[38;5;124m\"\u001b[39m):\n\u001b[0;32m--> 287\u001b[0m         transformed_samples \u001b[38;5;241m=\u001b[39m \u001b[38;5;28;43mself\u001b[39;49m\u001b[38;5;241;43m.\u001b[39;49m\u001b[43m_slice_np_mcmc\u001b[49m\u001b[43m(\u001b[49m\n\u001b[1;32m    288\u001b[0m \u001b[43m            \u001b[49m\u001b[43mnum_samples\u001b[49m\u001b[38;5;241;43m=\u001b[39;49m\u001b[43mnum_samples\u001b[49m\u001b[43m,\u001b[49m\n\u001b[1;32m    289\u001b[0m \u001b[43m            \u001b[49m\u001b[43mpotential_function\u001b[49m\u001b[38;5;241;43m=\u001b[39;49m\u001b[38;5;28;43mself\u001b[39;49m\u001b[38;5;241;43m.\u001b[39;49m\u001b[43mpotential_\u001b[49m\u001b[43m,\u001b[49m\n\u001b[1;32m    290\u001b[0m \u001b[43m            \u001b[49m\u001b[43minitial_params\u001b[49m\u001b[38;5;241;43m=\u001b[39;49m\u001b[43minitial_params\u001b[49m\u001b[43m,\u001b[49m\n\u001b[1;32m    291\u001b[0m \u001b[43m            \u001b[49m\u001b[43mthin\u001b[49m\u001b[38;5;241;43m=\u001b[39;49m\u001b[43mthin\u001b[49m\u001b[43m,\u001b[49m\u001b[43m  \u001b[49m\u001b[38;5;66;43;03m# type: ignore\u001b[39;49;00m\n\u001b[1;32m    292\u001b[0m \u001b[43m            \u001b[49m\u001b[43mwarmup_steps\u001b[49m\u001b[38;5;241;43m=\u001b[39;49m\u001b[43mwarmup_steps\u001b[49m\u001b[43m,\u001b[49m\u001b[43m  \u001b[49m\u001b[38;5;66;43;03m# type: ignore\u001b[39;49;00m\n\u001b[1;32m    293\u001b[0m \u001b[43m            \u001b[49m\u001b[43mvectorized\u001b[49m\u001b[38;5;241;43m=\u001b[39;49m\u001b[43m(\u001b[49m\u001b[43mmethod\u001b[49m\u001b[43m \u001b[49m\u001b[38;5;241;43m==\u001b[39;49m\u001b[43m \u001b[49m\u001b[38;5;124;43m\"\u001b[39;49m\u001b[38;5;124;43mslice_np_vectorized\u001b[39;49m\u001b[38;5;124;43m\"\u001b[39;49m\u001b[43m)\u001b[49m\u001b[43m,\u001b[49m\n\u001b[1;32m    294\u001b[0m \u001b[43m            \u001b[49m\u001b[43mnum_workers\u001b[49m\u001b[38;5;241;43m=\u001b[39;49m\u001b[43mnum_workers\u001b[49m\u001b[43m,\u001b[49m\n\u001b[1;32m    295\u001b[0m \u001b[43m            \u001b[49m\u001b[43mshow_progress_bars\u001b[49m\u001b[38;5;241;43m=\u001b[39;49m\u001b[43mshow_progress_bars\u001b[49m\u001b[43m,\u001b[49m\n\u001b[1;32m    296\u001b[0m \u001b[43m        \u001b[49m\u001b[43m)\u001b[49m\n\u001b[1;32m    297\u001b[0m     \u001b[38;5;28;01melif\u001b[39;00m method \u001b[38;5;129;01min\u001b[39;00m (\u001b[38;5;124m\"\u001b[39m\u001b[38;5;124mhmc\u001b[39m\u001b[38;5;124m\"\u001b[39m, \u001b[38;5;124m\"\u001b[39m\u001b[38;5;124mnuts\u001b[39m\u001b[38;5;124m\"\u001b[39m, \u001b[38;5;124m\"\u001b[39m\u001b[38;5;124mslice\u001b[39m\u001b[38;5;124m\"\u001b[39m):\n\u001b[1;32m    298\u001b[0m         transformed_samples \u001b[38;5;241m=\u001b[39m \u001b[38;5;28mself\u001b[39m\u001b[38;5;241m.\u001b[39m_pyro_mcmc(\n\u001b[1;32m    299\u001b[0m             num_samples\u001b[38;5;241m=\u001b[39mnum_samples,\n\u001b[1;32m    300\u001b[0m             potential_function\u001b[38;5;241m=\u001b[39m\u001b[38;5;28mself\u001b[39m\u001b[38;5;241m.\u001b[39mpotential_,\n\u001b[0;32m   (...)\u001b[0m\n\u001b[1;32m    306\u001b[0m             show_progress_bars\u001b[38;5;241m=\u001b[39mshow_progress_bars,\n\u001b[1;32m    307\u001b[0m         )\n",
      "File \u001b[0;32m~/opt/anaconda3/envs/2060/lib/python3.10/site-packages/sbi/inference/posteriors/mcmc_posterior.py:477\u001b[0m, in \u001b[0;36mMCMCPosterior._slice_np_mcmc\u001b[0;34m(self, num_samples, potential_function, initial_params, thin, warmup_steps, vectorized, num_workers, init_width, show_progress_bars)\u001b[0m\n\u001b[1;32m    475\u001b[0m num_samples_ \u001b[38;5;241m=\u001b[39m ceil((num_samples \u001b[38;5;241m*\u001b[39m thin) \u001b[38;5;241m/\u001b[39m num_chains)\n\u001b[1;32m    476\u001b[0m \u001b[38;5;66;03m# Run mcmc including warmup\u001b[39;00m\n\u001b[0;32m--> 477\u001b[0m samples \u001b[38;5;241m=\u001b[39m \u001b[43mposterior_sampler\u001b[49m\u001b[38;5;241;43m.\u001b[39;49m\u001b[43mrun\u001b[49m\u001b[43m(\u001b[49m\u001b[43mwarmup_\u001b[49m\u001b[43m \u001b[49m\u001b[38;5;241;43m+\u001b[39;49m\u001b[43m \u001b[49m\u001b[43mnum_samples_\u001b[49m\u001b[43m)\u001b[49m\n\u001b[1;32m    478\u001b[0m samples \u001b[38;5;241m=\u001b[39m samples[:, warmup_steps:, :]  \u001b[38;5;66;03m# discard warmup steps\u001b[39;00m\n\u001b[1;32m    479\u001b[0m samples \u001b[38;5;241m=\u001b[39m torch\u001b[38;5;241m.\u001b[39mfrom_numpy(samples)  \u001b[38;5;66;03m# chains x samples x dim\u001b[39;00m\n",
      "File \u001b[0;32m~/opt/anaconda3/envs/2060/lib/python3.10/site-packages/sbi/samplers/mcmc/slice_numpy.py:288\u001b[0m, in \u001b[0;36mSliceSamplerSerial.run\u001b[0;34m(self, num_samples)\u001b[0m\n\u001b[1;32m    277\u001b[0m seeds \u001b[38;5;241m=\u001b[39m torch\u001b[38;5;241m.\u001b[39mrandint(high\u001b[38;5;241m=\u001b[39m\u001b[38;5;241m2\u001b[39m\u001b[38;5;241m*\u001b[39m\u001b[38;5;241m*\u001b[39m\u001b[38;5;241m31\u001b[39m, size\u001b[38;5;241m=\u001b[39m(num_chains,))\n\u001b[1;32m    279\u001b[0m \u001b[38;5;28;01mwith\u001b[39;00m tqdm_joblib(\n\u001b[1;32m    280\u001b[0m     tqdm(\n\u001b[1;32m    281\u001b[0m         \u001b[38;5;28mrange\u001b[39m(num_chains),  \u001b[38;5;66;03m# type: ignore\u001b[39;00m\n\u001b[0;32m   (...)\u001b[0m\n\u001b[1;32m    286\u001b[0m     )\n\u001b[1;32m    287\u001b[0m ):\n\u001b[0;32m--> 288\u001b[0m     all_samples \u001b[38;5;241m=\u001b[39m \u001b[43mParallel\u001b[49m\u001b[43m(\u001b[49m\u001b[43mn_jobs\u001b[49m\u001b[38;5;241;43m=\u001b[39;49m\u001b[38;5;28;43mself\u001b[39;49m\u001b[38;5;241;43m.\u001b[39;49m\u001b[43mnum_workers\u001b[49m\u001b[43m)\u001b[49m\u001b[43m(\u001b[49m\n\u001b[1;32m    289\u001b[0m \u001b[43m        \u001b[49m\u001b[43mdelayed\u001b[49m\u001b[43m(\u001b[49m\u001b[38;5;28;43mself\u001b[39;49m\u001b[38;5;241;43m.\u001b[39;49m\u001b[43mrun_fun\u001b[49m\u001b[43m)\u001b[49m\u001b[43m(\u001b[49m\u001b[43mnum_samples\u001b[49m\u001b[43m,\u001b[49m\u001b[43m \u001b[49m\u001b[43minitial_params_batch\u001b[49m\u001b[43m,\u001b[49m\u001b[43m \u001b[49m\u001b[43mseed\u001b[49m\u001b[43m)\u001b[49m\n\u001b[1;32m    290\u001b[0m \u001b[43m        \u001b[49m\u001b[38;5;28;43;01mfor\u001b[39;49;00m\u001b[43m \u001b[49m\u001b[43minitial_params_batch\u001b[49m\u001b[43m,\u001b[49m\u001b[43m \u001b[49m\u001b[43mseed\u001b[49m\u001b[43m \u001b[49m\u001b[38;5;129;43;01min\u001b[39;49;00m\u001b[43m \u001b[49m\u001b[38;5;28;43mzip\u001b[39;49m\u001b[43m(\u001b[49m\u001b[38;5;28;43mself\u001b[39;49m\u001b[38;5;241;43m.\u001b[39;49m\u001b[43mx\u001b[49m\u001b[43m,\u001b[49m\u001b[43m \u001b[49m\u001b[43mseeds\u001b[49m\u001b[43m)\u001b[49m\n\u001b[1;32m    291\u001b[0m \u001b[43m    \u001b[49m\u001b[43m)\u001b[49m\n\u001b[1;32m    293\u001b[0m samples \u001b[38;5;241m=\u001b[39m np\u001b[38;5;241m.\u001b[39mstack(all_samples)\u001b[38;5;241m.\u001b[39mastype(np\u001b[38;5;241m.\u001b[39mfloat32)\n\u001b[1;32m    294\u001b[0m samples \u001b[38;5;241m=\u001b[39m samples\u001b[38;5;241m.\u001b[39mreshape(num_chains, \u001b[38;5;241m-\u001b[39m\u001b[38;5;241m1\u001b[39m, dim_samples)  \u001b[38;5;66;03m# chains, samples, dim\u001b[39;00m\n",
      "File \u001b[0;32m~/opt/anaconda3/envs/2060/lib/python3.10/site-packages/joblib/parallel.py:1085\u001b[0m, in \u001b[0;36mParallel.__call__\u001b[0;34m(self, iterable)\u001b[0m\n\u001b[1;32m   1076\u001b[0m \u001b[38;5;28;01mtry\u001b[39;00m:\n\u001b[1;32m   1077\u001b[0m     \u001b[38;5;66;03m# Only set self._iterating to True if at least a batch\u001b[39;00m\n\u001b[1;32m   1078\u001b[0m     \u001b[38;5;66;03m# was dispatched. In particular this covers the edge\u001b[39;00m\n\u001b[0;32m   (...)\u001b[0m\n\u001b[1;32m   1082\u001b[0m     \u001b[38;5;66;03m# was very quick and its callback already dispatched all the\u001b[39;00m\n\u001b[1;32m   1083\u001b[0m     \u001b[38;5;66;03m# remaining jobs.\u001b[39;00m\n\u001b[1;32m   1084\u001b[0m     \u001b[38;5;28mself\u001b[39m\u001b[38;5;241m.\u001b[39m_iterating \u001b[38;5;241m=\u001b[39m \u001b[38;5;28;01mFalse\u001b[39;00m\n\u001b[0;32m-> 1085\u001b[0m     \u001b[38;5;28;01mif\u001b[39;00m \u001b[38;5;28;43mself\u001b[39;49m\u001b[38;5;241;43m.\u001b[39;49m\u001b[43mdispatch_one_batch\u001b[49m\u001b[43m(\u001b[49m\u001b[43miterator\u001b[49m\u001b[43m)\u001b[49m:\n\u001b[1;32m   1086\u001b[0m         \u001b[38;5;28mself\u001b[39m\u001b[38;5;241m.\u001b[39m_iterating \u001b[38;5;241m=\u001b[39m \u001b[38;5;28mself\u001b[39m\u001b[38;5;241m.\u001b[39m_original_iterator \u001b[38;5;129;01mis\u001b[39;00m \u001b[38;5;129;01mnot\u001b[39;00m \u001b[38;5;28;01mNone\u001b[39;00m\n\u001b[1;32m   1088\u001b[0m     \u001b[38;5;28;01mwhile\u001b[39;00m \u001b[38;5;28mself\u001b[39m\u001b[38;5;241m.\u001b[39mdispatch_one_batch(iterator):\n",
      "File \u001b[0;32m~/opt/anaconda3/envs/2060/lib/python3.10/site-packages/joblib/parallel.py:901\u001b[0m, in \u001b[0;36mParallel.dispatch_one_batch\u001b[0;34m(self, iterator)\u001b[0m\n\u001b[1;32m    899\u001b[0m     \u001b[38;5;28;01mreturn\u001b[39;00m \u001b[38;5;28;01mFalse\u001b[39;00m\n\u001b[1;32m    900\u001b[0m \u001b[38;5;28;01melse\u001b[39;00m:\n\u001b[0;32m--> 901\u001b[0m     \u001b[38;5;28;43mself\u001b[39;49m\u001b[38;5;241;43m.\u001b[39;49m\u001b[43m_dispatch\u001b[49m\u001b[43m(\u001b[49m\u001b[43mtasks\u001b[49m\u001b[43m)\u001b[49m\n\u001b[1;32m    902\u001b[0m     \u001b[38;5;28;01mreturn\u001b[39;00m \u001b[38;5;28;01mTrue\u001b[39;00m\n",
      "File \u001b[0;32m~/opt/anaconda3/envs/2060/lib/python3.10/site-packages/joblib/parallel.py:819\u001b[0m, in \u001b[0;36mParallel._dispatch\u001b[0;34m(self, batch)\u001b[0m\n\u001b[1;32m    817\u001b[0m \u001b[38;5;28;01mwith\u001b[39;00m \u001b[38;5;28mself\u001b[39m\u001b[38;5;241m.\u001b[39m_lock:\n\u001b[1;32m    818\u001b[0m     job_idx \u001b[38;5;241m=\u001b[39m \u001b[38;5;28mlen\u001b[39m(\u001b[38;5;28mself\u001b[39m\u001b[38;5;241m.\u001b[39m_jobs)\n\u001b[0;32m--> 819\u001b[0m     job \u001b[38;5;241m=\u001b[39m \u001b[38;5;28;43mself\u001b[39;49m\u001b[38;5;241;43m.\u001b[39;49m\u001b[43m_backend\u001b[49m\u001b[38;5;241;43m.\u001b[39;49m\u001b[43mapply_async\u001b[49m\u001b[43m(\u001b[49m\u001b[43mbatch\u001b[49m\u001b[43m,\u001b[49m\u001b[43m \u001b[49m\u001b[43mcallback\u001b[49m\u001b[38;5;241;43m=\u001b[39;49m\u001b[43mcb\u001b[49m\u001b[43m)\u001b[49m\n\u001b[1;32m    820\u001b[0m     \u001b[38;5;66;03m# A job can complete so quickly than its callback is\u001b[39;00m\n\u001b[1;32m    821\u001b[0m     \u001b[38;5;66;03m# called before we get here, causing self._jobs to\u001b[39;00m\n\u001b[1;32m    822\u001b[0m     \u001b[38;5;66;03m# grow. To ensure correct results ordering, .insert is\u001b[39;00m\n\u001b[1;32m    823\u001b[0m     \u001b[38;5;66;03m# used (rather than .append) in the following line\u001b[39;00m\n\u001b[1;32m    824\u001b[0m     \u001b[38;5;28mself\u001b[39m\u001b[38;5;241m.\u001b[39m_jobs\u001b[38;5;241m.\u001b[39minsert(job_idx, job)\n",
      "File \u001b[0;32m~/opt/anaconda3/envs/2060/lib/python3.10/site-packages/joblib/_parallel_backends.py:208\u001b[0m, in \u001b[0;36mSequentialBackend.apply_async\u001b[0;34m(self, func, callback)\u001b[0m\n\u001b[1;32m    206\u001b[0m \u001b[38;5;28;01mdef\u001b[39;00m \u001b[38;5;21mapply_async\u001b[39m(\u001b[38;5;28mself\u001b[39m, func, callback\u001b[38;5;241m=\u001b[39m\u001b[38;5;28;01mNone\u001b[39;00m):\n\u001b[1;32m    207\u001b[0m \u001b[38;5;250m    \u001b[39m\u001b[38;5;124;03m\"\"\"Schedule a func to be run\"\"\"\u001b[39;00m\n\u001b[0;32m--> 208\u001b[0m     result \u001b[38;5;241m=\u001b[39m \u001b[43mImmediateResult\u001b[49m\u001b[43m(\u001b[49m\u001b[43mfunc\u001b[49m\u001b[43m)\u001b[49m\n\u001b[1;32m    209\u001b[0m     \u001b[38;5;28;01mif\u001b[39;00m callback:\n\u001b[1;32m    210\u001b[0m         callback(result)\n",
      "File \u001b[0;32m~/opt/anaconda3/envs/2060/lib/python3.10/site-packages/joblib/_parallel_backends.py:597\u001b[0m, in \u001b[0;36mImmediateResult.__init__\u001b[0;34m(self, batch)\u001b[0m\n\u001b[1;32m    594\u001b[0m \u001b[38;5;28;01mdef\u001b[39;00m \u001b[38;5;21m__init__\u001b[39m(\u001b[38;5;28mself\u001b[39m, batch):\n\u001b[1;32m    595\u001b[0m     \u001b[38;5;66;03m# Don't delay the application, to avoid keeping the input\u001b[39;00m\n\u001b[1;32m    596\u001b[0m     \u001b[38;5;66;03m# arguments in memory\u001b[39;00m\n\u001b[0;32m--> 597\u001b[0m     \u001b[38;5;28mself\u001b[39m\u001b[38;5;241m.\u001b[39mresults \u001b[38;5;241m=\u001b[39m \u001b[43mbatch\u001b[49m\u001b[43m(\u001b[49m\u001b[43m)\u001b[49m\n",
      "File \u001b[0;32m~/opt/anaconda3/envs/2060/lib/python3.10/site-packages/joblib/parallel.py:288\u001b[0m, in \u001b[0;36mBatchedCalls.__call__\u001b[0;34m(self)\u001b[0m\n\u001b[1;32m    284\u001b[0m \u001b[38;5;28;01mdef\u001b[39;00m \u001b[38;5;21m__call__\u001b[39m(\u001b[38;5;28mself\u001b[39m):\n\u001b[1;32m    285\u001b[0m     \u001b[38;5;66;03m# Set the default nested backend to self._backend but do not set the\u001b[39;00m\n\u001b[1;32m    286\u001b[0m     \u001b[38;5;66;03m# change the default number of processes to -1\u001b[39;00m\n\u001b[1;32m    287\u001b[0m     \u001b[38;5;28;01mwith\u001b[39;00m parallel_backend(\u001b[38;5;28mself\u001b[39m\u001b[38;5;241m.\u001b[39m_backend, n_jobs\u001b[38;5;241m=\u001b[39m\u001b[38;5;28mself\u001b[39m\u001b[38;5;241m.\u001b[39m_n_jobs):\n\u001b[0;32m--> 288\u001b[0m         \u001b[38;5;28;01mreturn\u001b[39;00m [func(\u001b[38;5;241m*\u001b[39margs, \u001b[38;5;241m*\u001b[39m\u001b[38;5;241m*\u001b[39mkwargs)\n\u001b[1;32m    289\u001b[0m                 \u001b[38;5;28;01mfor\u001b[39;00m func, args, kwargs \u001b[38;5;129;01min\u001b[39;00m \u001b[38;5;28mself\u001b[39m\u001b[38;5;241m.\u001b[39mitems]\n",
      "File \u001b[0;32m~/opt/anaconda3/envs/2060/lib/python3.10/site-packages/joblib/parallel.py:288\u001b[0m, in \u001b[0;36m<listcomp>\u001b[0;34m(.0)\u001b[0m\n\u001b[1;32m    284\u001b[0m \u001b[38;5;28;01mdef\u001b[39;00m \u001b[38;5;21m__call__\u001b[39m(\u001b[38;5;28mself\u001b[39m):\n\u001b[1;32m    285\u001b[0m     \u001b[38;5;66;03m# Set the default nested backend to self._backend but do not set the\u001b[39;00m\n\u001b[1;32m    286\u001b[0m     \u001b[38;5;66;03m# change the default number of processes to -1\u001b[39;00m\n\u001b[1;32m    287\u001b[0m     \u001b[38;5;28;01mwith\u001b[39;00m parallel_backend(\u001b[38;5;28mself\u001b[39m\u001b[38;5;241m.\u001b[39m_backend, n_jobs\u001b[38;5;241m=\u001b[39m\u001b[38;5;28mself\u001b[39m\u001b[38;5;241m.\u001b[39m_n_jobs):\n\u001b[0;32m--> 288\u001b[0m         \u001b[38;5;28;01mreturn\u001b[39;00m [\u001b[43mfunc\u001b[49m\u001b[43m(\u001b[49m\u001b[38;5;241;43m*\u001b[39;49m\u001b[43margs\u001b[49m\u001b[43m,\u001b[49m\u001b[43m \u001b[49m\u001b[38;5;241;43m*\u001b[39;49m\u001b[38;5;241;43m*\u001b[39;49m\u001b[43mkwargs\u001b[49m\u001b[43m)\u001b[49m\n\u001b[1;32m    289\u001b[0m                 \u001b[38;5;28;01mfor\u001b[39;00m func, args, kwargs \u001b[38;5;129;01min\u001b[39;00m \u001b[38;5;28mself\u001b[39m\u001b[38;5;241m.\u001b[39mitems]\n",
      "File \u001b[0;32m~/opt/anaconda3/envs/2060/lib/python3.10/site-packages/sbi/samplers/mcmc/slice_numpy.py:315\u001b[0m, in \u001b[0;36mSliceSamplerSerial.run_fun\u001b[0;34m(self, num_samples, inits, seed)\u001b[0m\n\u001b[1;32m    304\u001b[0m np\u001b[38;5;241m.\u001b[39mrandom\u001b[38;5;241m.\u001b[39mseed(seed)\n\u001b[1;32m    305\u001b[0m posterior_sampler \u001b[38;5;241m=\u001b[39m SliceSampler(\n\u001b[1;32m    306\u001b[0m     inits,\n\u001b[1;32m    307\u001b[0m     lp_f\u001b[38;5;241m=\u001b[39m\u001b[38;5;28mself\u001b[39m\u001b[38;5;241m.\u001b[39m_log_prob_fn,\n\u001b[0;32m   (...)\u001b[0m\n\u001b[1;32m    313\u001b[0m     verbose\u001b[38;5;241m=\u001b[39m\u001b[38;5;28mself\u001b[39m\u001b[38;5;241m.\u001b[39mnum_workers \u001b[38;5;241m==\u001b[39m \u001b[38;5;241m1\u001b[39m \u001b[38;5;129;01mand\u001b[39;00m \u001b[38;5;28mself\u001b[39m\u001b[38;5;241m.\u001b[39mverbose,\n\u001b[1;32m    314\u001b[0m )\n\u001b[0;32m--> 315\u001b[0m \u001b[38;5;28;01mreturn\u001b[39;00m \u001b[43mposterior_sampler\u001b[49m\u001b[38;5;241;43m.\u001b[39;49m\u001b[43mgen\u001b[49m\u001b[43m(\u001b[49m\u001b[43mnum_samples\u001b[49m\u001b[43m)\u001b[49m\n",
      "File \u001b[0;32m~/opt/anaconda3/envs/2060/lib/python3.10/site-packages/sbi/samplers/mcmc/slice_numpy.py:116\u001b[0m, in \u001b[0;36mSliceSampler.gen\u001b[0;34m(self, n_samples, logger, show_info, rng)\u001b[0m\n\u001b[1;32m    112\u001b[0m logger \u001b[38;5;241m=\u001b[39m \u001b[38;5;28mopen\u001b[39m(os\u001b[38;5;241m.\u001b[39mdevnull, \u001b[38;5;124m\"\u001b[39m\u001b[38;5;124mw\u001b[39m\u001b[38;5;124m\"\u001b[39m) \u001b[38;5;28;01mif\u001b[39;00m logger \u001b[38;5;129;01mis\u001b[39;00m \u001b[38;5;28;01mNone\u001b[39;00m \u001b[38;5;28;01melse\u001b[39;00m logger\n\u001b[1;32m    114\u001b[0m \u001b[38;5;28;01mif\u001b[39;00m \u001b[38;5;28mself\u001b[39m\u001b[38;5;241m.\u001b[39mwidth \u001b[38;5;129;01mis\u001b[39;00m \u001b[38;5;28;01mNone\u001b[39;00m:\n\u001b[1;32m    115\u001b[0m     \u001b[38;5;66;03m# logger.write('tuning bracket width...\\n')\u001b[39;00m\n\u001b[0;32m--> 116\u001b[0m     \u001b[38;5;28;43mself\u001b[39;49m\u001b[38;5;241;43m.\u001b[39;49m\u001b[43m_tune_bracket_width\u001b[49m\u001b[43m(\u001b[49m\u001b[43mrng\u001b[49m\u001b[43m)\u001b[49m\n\u001b[1;32m    118\u001b[0m tbar \u001b[38;5;241m=\u001b[39m trange(\u001b[38;5;28mint\u001b[39m(n_samples), miniters\u001b[38;5;241m=\u001b[39m\u001b[38;5;241m10\u001b[39m, disable\u001b[38;5;241m=\u001b[39m\u001b[38;5;129;01mnot\u001b[39;00m \u001b[38;5;28mself\u001b[39m\u001b[38;5;241m.\u001b[39mverbose)\n\u001b[1;32m    119\u001b[0m tbar\u001b[38;5;241m.\u001b[39mset_description(\u001b[38;5;124m\"\u001b[39m\u001b[38;5;124mGenerating samples\u001b[39m\u001b[38;5;124m\"\u001b[39m)\n",
      "File \u001b[0;32m~/opt/anaconda3/envs/2060/lib/python3.10/site-packages/sbi/samplers/mcmc/slice_numpy.py:167\u001b[0m, in \u001b[0;36mSliceSampler._tune_bracket_width\u001b[0;34m(self, rng)\u001b[0m\n\u001b[1;32m    164\u001b[0m rng\u001b[38;5;241m.\u001b[39mshuffle(order)\n\u001b[1;32m    166\u001b[0m \u001b[38;5;28;01mfor\u001b[39;00m i \u001b[38;5;129;01min\u001b[39;00m \u001b[38;5;28mrange\u001b[39m(\u001b[38;5;28mself\u001b[39m\u001b[38;5;241m.\u001b[39mn_dims):\n\u001b[0;32m--> 167\u001b[0m     x[i], wi \u001b[38;5;241m=\u001b[39m \u001b[38;5;28;43mself\u001b[39;49m\u001b[38;5;241;43m.\u001b[39;49m\u001b[43m_sample_from_conditional\u001b[49m\u001b[43m(\u001b[49m\u001b[43mi\u001b[49m\u001b[43m,\u001b[49m\u001b[43m \u001b[49m\u001b[43mx\u001b[49m\u001b[43m[\u001b[49m\u001b[43mi\u001b[49m\u001b[43m]\u001b[49m\u001b[43m,\u001b[49m\u001b[43m \u001b[49m\u001b[43mrng\u001b[49m\u001b[43m)\u001b[49m\n\u001b[1;32m    168\u001b[0m     \u001b[38;5;28mself\u001b[39m\u001b[38;5;241m.\u001b[39mwidth[i] \u001b[38;5;241m+\u001b[39m\u001b[38;5;241m=\u001b[39m (wi \u001b[38;5;241m-\u001b[39m \u001b[38;5;28mself\u001b[39m\u001b[38;5;241m.\u001b[39mwidth[i]) \u001b[38;5;241m/\u001b[39m (n \u001b[38;5;241m+\u001b[39m \u001b[38;5;241m1\u001b[39m)\n",
      "File \u001b[0;32m~/opt/anaconda3/envs/2060/lib/python3.10/site-packages/sbi/samplers/mcmc/slice_numpy.py:200\u001b[0m, in \u001b[0;36mSliceSampler._sample_from_conditional\u001b[0;34m(self, i, cxi, rng)\u001b[0m\n\u001b[1;32m    197\u001b[0m     lx \u001b[38;5;241m-\u001b[39m\u001b[38;5;241m=\u001b[39m wi\n\u001b[1;32m    199\u001b[0m \u001b[38;5;66;03m# find upper bracket end\u001b[39;00m\n\u001b[0;32m--> 200\u001b[0m \u001b[38;5;28;01mwhile\u001b[39;00m \u001b[43mLi\u001b[49m\u001b[43m(\u001b[49m\u001b[43mux\u001b[49m\u001b[43m)\u001b[49m \u001b[38;5;241m>\u001b[39m\u001b[38;5;241m=\u001b[39m logu \u001b[38;5;129;01mand\u001b[39;00m ux \u001b[38;5;241m-\u001b[39m cxi \u001b[38;5;241m<\u001b[39m \u001b[38;5;28mself\u001b[39m\u001b[38;5;241m.\u001b[39mmax_width:\n\u001b[1;32m    201\u001b[0m     ux \u001b[38;5;241m+\u001b[39m\u001b[38;5;241m=\u001b[39m wi\n\u001b[1;32m    203\u001b[0m \u001b[38;5;66;03m# sample uniformly from bracket\u001b[39;00m\n",
      "File \u001b[0;32m~/opt/anaconda3/envs/2060/lib/python3.10/site-packages/sbi/samplers/mcmc/slice_numpy.py:185\u001b[0m, in \u001b[0;36mSliceSampler._sample_from_conditional.<locals>.<lambda>\u001b[0;34m(t)\u001b[0m\n\u001b[1;32m    182\u001b[0m \u001b[38;5;28;01massert\u001b[39;00m \u001b[38;5;28mself\u001b[39m\u001b[38;5;241m.\u001b[39mwidth \u001b[38;5;129;01mis\u001b[39;00m \u001b[38;5;129;01mnot\u001b[39;00m \u001b[38;5;28;01mNone\u001b[39;00m, \u001b[38;5;124m\"\u001b[39m\u001b[38;5;124mChain not initialized.\u001b[39m\u001b[38;5;124m\"\u001b[39m\n\u001b[1;32m    184\u001b[0m \u001b[38;5;66;03m# conditional log prob\u001b[39;00m\n\u001b[0;32m--> 185\u001b[0m Li \u001b[38;5;241m=\u001b[39m \u001b[38;5;28;01mlambda\u001b[39;00m t: \u001b[38;5;28;43mself\u001b[39;49m\u001b[38;5;241;43m.\u001b[39;49m\u001b[43mlp_f\u001b[49m\u001b[43m(\u001b[49m\u001b[43mnp\u001b[49m\u001b[38;5;241;43m.\u001b[39;49m\u001b[43mconcatenate\u001b[49m\u001b[43m(\u001b[49m\u001b[43m[\u001b[49m\u001b[38;5;28;43mself\u001b[39;49m\u001b[38;5;241;43m.\u001b[39;49m\u001b[43mx\u001b[49m\u001b[43m[\u001b[49m\u001b[43m:\u001b[49m\u001b[43mi\u001b[49m\u001b[43m]\u001b[49m\u001b[43m,\u001b[49m\u001b[43m \u001b[49m\u001b[43m[\u001b[49m\u001b[43mt\u001b[49m\u001b[43m]\u001b[49m\u001b[43m,\u001b[49m\u001b[43m \u001b[49m\u001b[38;5;28;43mself\u001b[39;49m\u001b[38;5;241;43m.\u001b[39;49m\u001b[43mx\u001b[49m\u001b[43m[\u001b[49m\u001b[43mi\u001b[49m\u001b[43m \u001b[49m\u001b[38;5;241;43m+\u001b[39;49m\u001b[43m \u001b[49m\u001b[38;5;241;43m1\u001b[39;49m\u001b[43m \u001b[49m\u001b[43m:\u001b[49m\u001b[43m]\u001b[49m\u001b[43m]\u001b[49m\u001b[43m)\u001b[49m\u001b[43m)\u001b[49m\n\u001b[1;32m    186\u001b[0m wi \u001b[38;5;241m=\u001b[39m \u001b[38;5;28mself\u001b[39m\u001b[38;5;241m.\u001b[39mwidth[i]\n\u001b[1;32m    188\u001b[0m \u001b[38;5;66;03m# sample a slice uniformly\u001b[39;00m\n",
      "File \u001b[0;32m~/opt/anaconda3/envs/2060/lib/python3.10/site-packages/sbi/utils/potentialutils.py:41\u001b[0m, in \u001b[0;36mtransformed_potential\u001b[0;34m(theta, potential_fn, theta_transform, device, track_gradients)\u001b[0m\n\u001b[1;32m     38\u001b[0m theta \u001b[38;5;241m=\u001b[39m theta_transform\u001b[38;5;241m.\u001b[39minv(transformed_theta)  \u001b[38;5;66;03m# type: ignore\u001b[39;00m\n\u001b[1;32m     39\u001b[0m log_abs_det \u001b[38;5;241m=\u001b[39m theta_transform\u001b[38;5;241m.\u001b[39mlog_abs_det_jacobian(theta, transformed_theta)\n\u001b[0;32m---> 41\u001b[0m posterior_potential \u001b[38;5;241m=\u001b[39m \u001b[43mpotential_fn\u001b[49m\u001b[43m(\u001b[49m\u001b[43mtheta\u001b[49m\u001b[43m,\u001b[49m\u001b[43m \u001b[49m\u001b[43mtrack_gradients\u001b[49m\u001b[38;5;241;43m=\u001b[39;49m\u001b[43mtrack_gradients\u001b[49m\u001b[43m)\u001b[49m\n\u001b[1;32m     42\u001b[0m posterior_potential_transformed \u001b[38;5;241m=\u001b[39m posterior_potential \u001b[38;5;241m-\u001b[39m log_abs_det\n\u001b[1;32m     43\u001b[0m \u001b[38;5;28;01mreturn\u001b[39;00m posterior_potential_transformed\n",
      "File \u001b[0;32m~/opt/anaconda3/envs/2060/lib/python3.10/site-packages/sbi/inference/potentials/likelihood_based_potential.py:92\u001b[0m, in \u001b[0;36mLikelihoodBasedPotential.__call__\u001b[0;34m(self, theta, track_gradients)\u001b[0m\n\u001b[1;32m     81\u001b[0m \u001b[38;5;250m\u001b[39m\u001b[38;5;124mr\u001b[39m\u001b[38;5;124;03m\"\"\"Returns the potential $\\log(p(x_o|\\theta)p(\\theta))$.\u001b[39;00m\n\u001b[1;32m     82\u001b[0m \n\u001b[1;32m     83\u001b[0m \u001b[38;5;124;03mArgs:\u001b[39;00m\n\u001b[0;32m   (...)\u001b[0m\n\u001b[1;32m     88\u001b[0m \u001b[38;5;124;03m    The potential $\\log(p(x_o|\\theta)p(\\theta))$.\u001b[39;00m\n\u001b[1;32m     89\u001b[0m \u001b[38;5;124;03m\"\"\"\u001b[39;00m\n\u001b[1;32m     91\u001b[0m \u001b[38;5;66;03m# Calculate likelihood over trials and in one batch.\u001b[39;00m\n\u001b[0;32m---> 92\u001b[0m log_likelihood_trial_sum \u001b[38;5;241m=\u001b[39m \u001b[43m_log_likelihoods_over_trials\u001b[49m\u001b[43m(\u001b[49m\n\u001b[1;32m     93\u001b[0m \u001b[43m    \u001b[49m\u001b[43mx\u001b[49m\u001b[38;5;241;43m=\u001b[39;49m\u001b[38;5;28;43mself\u001b[39;49m\u001b[38;5;241;43m.\u001b[39;49m\u001b[43mx_o\u001b[49m\u001b[43m,\u001b[49m\n\u001b[1;32m     94\u001b[0m \u001b[43m    \u001b[49m\u001b[43mtheta\u001b[49m\u001b[38;5;241;43m=\u001b[39;49m\u001b[43mtheta\u001b[49m\u001b[38;5;241;43m.\u001b[39;49m\u001b[43mto\u001b[49m\u001b[43m(\u001b[49m\u001b[38;5;28;43mself\u001b[39;49m\u001b[38;5;241;43m.\u001b[39;49m\u001b[43mdevice\u001b[49m\u001b[43m)\u001b[49m\u001b[43m,\u001b[49m\n\u001b[1;32m     95\u001b[0m \u001b[43m    \u001b[49m\u001b[43mnet\u001b[49m\u001b[38;5;241;43m=\u001b[39;49m\u001b[38;5;28;43mself\u001b[39;49m\u001b[38;5;241;43m.\u001b[39;49m\u001b[43mlikelihood_estimator\u001b[49m\u001b[43m,\u001b[49m\n\u001b[1;32m     96\u001b[0m \u001b[43m    \u001b[49m\u001b[43mtrack_gradients\u001b[49m\u001b[38;5;241;43m=\u001b[39;49m\u001b[43mtrack_gradients\u001b[49m\u001b[43m,\u001b[49m\n\u001b[1;32m     97\u001b[0m \u001b[43m\u001b[49m\u001b[43m)\u001b[49m\n\u001b[1;32m     99\u001b[0m \u001b[38;5;28;01mreturn\u001b[39;00m log_likelihood_trial_sum \u001b[38;5;241m+\u001b[39m \u001b[38;5;28mself\u001b[39m\u001b[38;5;241m.\u001b[39mprior\u001b[38;5;241m.\u001b[39mlog_prob(theta)\n",
      "File \u001b[0;32m~/opt/anaconda3/envs/2060/lib/python3.10/site-packages/sbi/inference/potentials/likelihood_based_potential.py:140\u001b[0m, in \u001b[0;36m_log_likelihoods_over_trials\u001b[0;34m(x, theta, net, track_gradients)\u001b[0m\n\u001b[1;32m    138\u001b[0m \u001b[38;5;66;03m# Calculate likelihood in one batch.\u001b[39;00m\n\u001b[1;32m    139\u001b[0m \u001b[38;5;28;01mwith\u001b[39;00m torch\u001b[38;5;241m.\u001b[39mset_grad_enabled(track_gradients):\n\u001b[0;32m--> 140\u001b[0m     log_likelihood_trial_batch \u001b[38;5;241m=\u001b[39m \u001b[43mnet\u001b[49m\u001b[38;5;241;43m.\u001b[39;49m\u001b[43mlog_prob\u001b[49m\u001b[43m(\u001b[49m\u001b[43mx_repeated\u001b[49m\u001b[43m,\u001b[49m\u001b[43m \u001b[49m\u001b[43mtheta_repeated\u001b[49m\u001b[43m)\u001b[49m\n\u001b[1;32m    141\u001b[0m     \u001b[38;5;66;03m# Reshape to (x-trials x parameters), sum over trial-log likelihoods.\u001b[39;00m\n\u001b[1;32m    142\u001b[0m     log_likelihood_trial_sum \u001b[38;5;241m=\u001b[39m log_likelihood_trial_batch\u001b[38;5;241m.\u001b[39mreshape(\n\u001b[1;32m    143\u001b[0m         x\u001b[38;5;241m.\u001b[39mshape[\u001b[38;5;241m0\u001b[39m], \u001b[38;5;241m-\u001b[39m\u001b[38;5;241m1\u001b[39m\n\u001b[1;32m    144\u001b[0m     )\u001b[38;5;241m.\u001b[39msum(\u001b[38;5;241m0\u001b[39m)\n",
      "File \u001b[0;32m~/opt/anaconda3/envs/2060/lib/python3.10/site-packages/nflows/distributions/base.py:40\u001b[0m, in \u001b[0;36mDistribution.log_prob\u001b[0;34m(self, inputs, context)\u001b[0m\n\u001b[1;32m     36\u001b[0m     \u001b[38;5;28;01mif\u001b[39;00m inputs\u001b[38;5;241m.\u001b[39mshape[\u001b[38;5;241m0\u001b[39m] \u001b[38;5;241m!=\u001b[39m context\u001b[38;5;241m.\u001b[39mshape[\u001b[38;5;241m0\u001b[39m]:\n\u001b[1;32m     37\u001b[0m         \u001b[38;5;28;01mraise\u001b[39;00m \u001b[38;5;167;01mValueError\u001b[39;00m(\n\u001b[1;32m     38\u001b[0m             \u001b[38;5;124m\"\u001b[39m\u001b[38;5;124mNumber of input items must be equal to number of context items.\u001b[39m\u001b[38;5;124m\"\u001b[39m\n\u001b[1;32m     39\u001b[0m         )\n\u001b[0;32m---> 40\u001b[0m \u001b[38;5;28;01mreturn\u001b[39;00m \u001b[38;5;28;43mself\u001b[39;49m\u001b[38;5;241;43m.\u001b[39;49m\u001b[43m_log_prob\u001b[49m\u001b[43m(\u001b[49m\u001b[43minputs\u001b[49m\u001b[43m,\u001b[49m\u001b[43m \u001b[49m\u001b[43mcontext\u001b[49m\u001b[43m)\u001b[49m\n",
      "File \u001b[0;32m~/opt/anaconda3/envs/2060/lib/python3.10/site-packages/nflows/flows/base.py:39\u001b[0m, in \u001b[0;36mFlow._log_prob\u001b[0;34m(self, inputs, context)\u001b[0m\n\u001b[1;32m     37\u001b[0m \u001b[38;5;28;01mdef\u001b[39;00m \u001b[38;5;21m_log_prob\u001b[39m(\u001b[38;5;28mself\u001b[39m, inputs, context):\n\u001b[1;32m     38\u001b[0m     embedded_context \u001b[38;5;241m=\u001b[39m \u001b[38;5;28mself\u001b[39m\u001b[38;5;241m.\u001b[39m_embedding_net(context)\n\u001b[0;32m---> 39\u001b[0m     noise, logabsdet \u001b[38;5;241m=\u001b[39m \u001b[38;5;28;43mself\u001b[39;49m\u001b[38;5;241;43m.\u001b[39;49m\u001b[43m_transform\u001b[49m\u001b[43m(\u001b[49m\u001b[43minputs\u001b[49m\u001b[43m,\u001b[49m\u001b[43m \u001b[49m\u001b[43mcontext\u001b[49m\u001b[38;5;241;43m=\u001b[39;49m\u001b[43membedded_context\u001b[49m\u001b[43m)\u001b[49m\n\u001b[1;32m     40\u001b[0m     log_prob \u001b[38;5;241m=\u001b[39m \u001b[38;5;28mself\u001b[39m\u001b[38;5;241m.\u001b[39m_distribution\u001b[38;5;241m.\u001b[39mlog_prob(noise, context\u001b[38;5;241m=\u001b[39membedded_context)\n\u001b[1;32m     41\u001b[0m     \u001b[38;5;28;01mreturn\u001b[39;00m log_prob \u001b[38;5;241m+\u001b[39m logabsdet\n",
      "File \u001b[0;32m~/opt/anaconda3/envs/2060/lib/python3.10/site-packages/torch/nn/modules/module.py:1501\u001b[0m, in \u001b[0;36mModule._call_impl\u001b[0;34m(self, *args, **kwargs)\u001b[0m\n\u001b[1;32m   1496\u001b[0m \u001b[38;5;66;03m# If we don't have any hooks, we want to skip the rest of the logic in\u001b[39;00m\n\u001b[1;32m   1497\u001b[0m \u001b[38;5;66;03m# this function, and just call forward.\u001b[39;00m\n\u001b[1;32m   1498\u001b[0m \u001b[38;5;28;01mif\u001b[39;00m \u001b[38;5;129;01mnot\u001b[39;00m (\u001b[38;5;28mself\u001b[39m\u001b[38;5;241m.\u001b[39m_backward_hooks \u001b[38;5;129;01mor\u001b[39;00m \u001b[38;5;28mself\u001b[39m\u001b[38;5;241m.\u001b[39m_backward_pre_hooks \u001b[38;5;129;01mor\u001b[39;00m \u001b[38;5;28mself\u001b[39m\u001b[38;5;241m.\u001b[39m_forward_hooks \u001b[38;5;129;01mor\u001b[39;00m \u001b[38;5;28mself\u001b[39m\u001b[38;5;241m.\u001b[39m_forward_pre_hooks\n\u001b[1;32m   1499\u001b[0m         \u001b[38;5;129;01mor\u001b[39;00m _global_backward_pre_hooks \u001b[38;5;129;01mor\u001b[39;00m _global_backward_hooks\n\u001b[1;32m   1500\u001b[0m         \u001b[38;5;129;01mor\u001b[39;00m _global_forward_hooks \u001b[38;5;129;01mor\u001b[39;00m _global_forward_pre_hooks):\n\u001b[0;32m-> 1501\u001b[0m     \u001b[38;5;28;01mreturn\u001b[39;00m \u001b[43mforward_call\u001b[49m\u001b[43m(\u001b[49m\u001b[38;5;241;43m*\u001b[39;49m\u001b[43margs\u001b[49m\u001b[43m,\u001b[49m\u001b[43m \u001b[49m\u001b[38;5;241;43m*\u001b[39;49m\u001b[38;5;241;43m*\u001b[39;49m\u001b[43mkwargs\u001b[49m\u001b[43m)\u001b[49m\n\u001b[1;32m   1502\u001b[0m \u001b[38;5;66;03m# Do not call functions when jit is used\u001b[39;00m\n\u001b[1;32m   1503\u001b[0m full_backward_hooks, non_full_backward_hooks \u001b[38;5;241m=\u001b[39m [], []\n",
      "File \u001b[0;32m~/opt/anaconda3/envs/2060/lib/python3.10/site-packages/nflows/transforms/base.py:56\u001b[0m, in \u001b[0;36mCompositeTransform.forward\u001b[0;34m(self, inputs, context)\u001b[0m\n\u001b[1;32m     54\u001b[0m \u001b[38;5;28;01mdef\u001b[39;00m \u001b[38;5;21mforward\u001b[39m(\u001b[38;5;28mself\u001b[39m, inputs, context\u001b[38;5;241m=\u001b[39m\u001b[38;5;28;01mNone\u001b[39;00m):\n\u001b[1;32m     55\u001b[0m     funcs \u001b[38;5;241m=\u001b[39m \u001b[38;5;28mself\u001b[39m\u001b[38;5;241m.\u001b[39m_transforms\n\u001b[0;32m---> 56\u001b[0m     \u001b[38;5;28;01mreturn\u001b[39;00m \u001b[38;5;28;43mself\u001b[39;49m\u001b[38;5;241;43m.\u001b[39;49m\u001b[43m_cascade\u001b[49m\u001b[43m(\u001b[49m\u001b[43minputs\u001b[49m\u001b[43m,\u001b[49m\u001b[43m \u001b[49m\u001b[43mfuncs\u001b[49m\u001b[43m,\u001b[49m\u001b[43m \u001b[49m\u001b[43mcontext\u001b[49m\u001b[43m)\u001b[49m\n",
      "File \u001b[0;32m~/opt/anaconda3/envs/2060/lib/python3.10/site-packages/nflows/transforms/base.py:50\u001b[0m, in \u001b[0;36mCompositeTransform._cascade\u001b[0;34m(inputs, funcs, context)\u001b[0m\n\u001b[1;32m     48\u001b[0m total_logabsdet \u001b[38;5;241m=\u001b[39m inputs\u001b[38;5;241m.\u001b[39mnew_zeros(batch_size)\n\u001b[1;32m     49\u001b[0m \u001b[38;5;28;01mfor\u001b[39;00m func \u001b[38;5;129;01min\u001b[39;00m funcs:\n\u001b[0;32m---> 50\u001b[0m     outputs, logabsdet \u001b[38;5;241m=\u001b[39m \u001b[43mfunc\u001b[49m\u001b[43m(\u001b[49m\u001b[43moutputs\u001b[49m\u001b[43m,\u001b[49m\u001b[43m \u001b[49m\u001b[43mcontext\u001b[49m\u001b[43m)\u001b[49m\n\u001b[1;32m     51\u001b[0m     total_logabsdet \u001b[38;5;241m+\u001b[39m\u001b[38;5;241m=\u001b[39m logabsdet\n\u001b[1;32m     52\u001b[0m \u001b[38;5;28;01mreturn\u001b[39;00m outputs, total_logabsdet\n",
      "File \u001b[0;32m~/opt/anaconda3/envs/2060/lib/python3.10/site-packages/torch/nn/modules/module.py:1501\u001b[0m, in \u001b[0;36mModule._call_impl\u001b[0;34m(self, *args, **kwargs)\u001b[0m\n\u001b[1;32m   1496\u001b[0m \u001b[38;5;66;03m# If we don't have any hooks, we want to skip the rest of the logic in\u001b[39;00m\n\u001b[1;32m   1497\u001b[0m \u001b[38;5;66;03m# this function, and just call forward.\u001b[39;00m\n\u001b[1;32m   1498\u001b[0m \u001b[38;5;28;01mif\u001b[39;00m \u001b[38;5;129;01mnot\u001b[39;00m (\u001b[38;5;28mself\u001b[39m\u001b[38;5;241m.\u001b[39m_backward_hooks \u001b[38;5;129;01mor\u001b[39;00m \u001b[38;5;28mself\u001b[39m\u001b[38;5;241m.\u001b[39m_backward_pre_hooks \u001b[38;5;129;01mor\u001b[39;00m \u001b[38;5;28mself\u001b[39m\u001b[38;5;241m.\u001b[39m_forward_hooks \u001b[38;5;129;01mor\u001b[39;00m \u001b[38;5;28mself\u001b[39m\u001b[38;5;241m.\u001b[39m_forward_pre_hooks\n\u001b[1;32m   1499\u001b[0m         \u001b[38;5;129;01mor\u001b[39;00m _global_backward_pre_hooks \u001b[38;5;129;01mor\u001b[39;00m _global_backward_hooks\n\u001b[1;32m   1500\u001b[0m         \u001b[38;5;129;01mor\u001b[39;00m _global_forward_hooks \u001b[38;5;129;01mor\u001b[39;00m _global_forward_pre_hooks):\n\u001b[0;32m-> 1501\u001b[0m     \u001b[38;5;28;01mreturn\u001b[39;00m \u001b[43mforward_call\u001b[49m\u001b[43m(\u001b[49m\u001b[38;5;241;43m*\u001b[39;49m\u001b[43margs\u001b[49m\u001b[43m,\u001b[49m\u001b[43m \u001b[49m\u001b[38;5;241;43m*\u001b[39;49m\u001b[38;5;241;43m*\u001b[39;49m\u001b[43mkwargs\u001b[49m\u001b[43m)\u001b[49m\n\u001b[1;32m   1502\u001b[0m \u001b[38;5;66;03m# Do not call functions when jit is used\u001b[39;00m\n\u001b[1;32m   1503\u001b[0m full_backward_hooks, non_full_backward_hooks \u001b[38;5;241m=\u001b[39m [], []\n",
      "File \u001b[0;32m~/opt/anaconda3/envs/2060/lib/python3.10/site-packages/nflows/transforms/autoregressive.py:38\u001b[0m, in \u001b[0;36mAutoregressiveTransform.forward\u001b[0;34m(self, inputs, context)\u001b[0m\n\u001b[1;32m     37\u001b[0m \u001b[38;5;28;01mdef\u001b[39;00m \u001b[38;5;21mforward\u001b[39m(\u001b[38;5;28mself\u001b[39m, inputs, context\u001b[38;5;241m=\u001b[39m\u001b[38;5;28;01mNone\u001b[39;00m):\n\u001b[0;32m---> 38\u001b[0m     autoregressive_params \u001b[38;5;241m=\u001b[39m \u001b[38;5;28;43mself\u001b[39;49m\u001b[38;5;241;43m.\u001b[39;49m\u001b[43mautoregressive_net\u001b[49m\u001b[43m(\u001b[49m\u001b[43minputs\u001b[49m\u001b[43m,\u001b[49m\u001b[43m \u001b[49m\u001b[43mcontext\u001b[49m\u001b[43m)\u001b[49m\n\u001b[1;32m     39\u001b[0m     outputs, logabsdet \u001b[38;5;241m=\u001b[39m \u001b[38;5;28mself\u001b[39m\u001b[38;5;241m.\u001b[39m_elementwise_forward(inputs, autoregressive_params)\n\u001b[1;32m     40\u001b[0m     \u001b[38;5;28;01mreturn\u001b[39;00m outputs, logabsdet\n",
      "File \u001b[0;32m~/opt/anaconda3/envs/2060/lib/python3.10/site-packages/torch/nn/modules/module.py:1501\u001b[0m, in \u001b[0;36mModule._call_impl\u001b[0;34m(self, *args, **kwargs)\u001b[0m\n\u001b[1;32m   1496\u001b[0m \u001b[38;5;66;03m# If we don't have any hooks, we want to skip the rest of the logic in\u001b[39;00m\n\u001b[1;32m   1497\u001b[0m \u001b[38;5;66;03m# this function, and just call forward.\u001b[39;00m\n\u001b[1;32m   1498\u001b[0m \u001b[38;5;28;01mif\u001b[39;00m \u001b[38;5;129;01mnot\u001b[39;00m (\u001b[38;5;28mself\u001b[39m\u001b[38;5;241m.\u001b[39m_backward_hooks \u001b[38;5;129;01mor\u001b[39;00m \u001b[38;5;28mself\u001b[39m\u001b[38;5;241m.\u001b[39m_backward_pre_hooks \u001b[38;5;129;01mor\u001b[39;00m \u001b[38;5;28mself\u001b[39m\u001b[38;5;241m.\u001b[39m_forward_hooks \u001b[38;5;129;01mor\u001b[39;00m \u001b[38;5;28mself\u001b[39m\u001b[38;5;241m.\u001b[39m_forward_pre_hooks\n\u001b[1;32m   1499\u001b[0m         \u001b[38;5;129;01mor\u001b[39;00m _global_backward_pre_hooks \u001b[38;5;129;01mor\u001b[39;00m _global_backward_hooks\n\u001b[1;32m   1500\u001b[0m         \u001b[38;5;129;01mor\u001b[39;00m _global_forward_hooks \u001b[38;5;129;01mor\u001b[39;00m _global_forward_pre_hooks):\n\u001b[0;32m-> 1501\u001b[0m     \u001b[38;5;28;01mreturn\u001b[39;00m \u001b[43mforward_call\u001b[49m\u001b[43m(\u001b[49m\u001b[38;5;241;43m*\u001b[39;49m\u001b[43margs\u001b[49m\u001b[43m,\u001b[49m\u001b[43m \u001b[49m\u001b[38;5;241;43m*\u001b[39;49m\u001b[38;5;241;43m*\u001b[39;49m\u001b[43mkwargs\u001b[49m\u001b[43m)\u001b[49m\n\u001b[1;32m   1502\u001b[0m \u001b[38;5;66;03m# Do not call functions when jit is used\u001b[39;00m\n\u001b[1;32m   1503\u001b[0m full_backward_hooks, non_full_backward_hooks \u001b[38;5;241m=\u001b[39m [], []\n",
      "File \u001b[0;32m~/opt/anaconda3/envs/2060/lib/python3.10/site-packages/nflows/transforms/made.py:282\u001b[0m, in \u001b[0;36mMADE.forward\u001b[0;34m(self, inputs, context)\u001b[0m\n\u001b[1;32m    280\u001b[0m \u001b[38;5;28;01mfor\u001b[39;00m block \u001b[38;5;129;01min\u001b[39;00m \u001b[38;5;28mself\u001b[39m\u001b[38;5;241m.\u001b[39mblocks:\n\u001b[1;32m    281\u001b[0m     temps \u001b[38;5;241m=\u001b[39m block(temps, context)\n\u001b[0;32m--> 282\u001b[0m outputs \u001b[38;5;241m=\u001b[39m \u001b[38;5;28;43mself\u001b[39;49m\u001b[38;5;241;43m.\u001b[39;49m\u001b[43mfinal_layer\u001b[49m\u001b[43m(\u001b[49m\u001b[43mtemps\u001b[49m\u001b[43m)\u001b[49m\n\u001b[1;32m    283\u001b[0m \u001b[38;5;28;01mreturn\u001b[39;00m outputs\n",
      "File \u001b[0;32m~/opt/anaconda3/envs/2060/lib/python3.10/site-packages/torch/nn/modules/module.py:1501\u001b[0m, in \u001b[0;36mModule._call_impl\u001b[0;34m(self, *args, **kwargs)\u001b[0m\n\u001b[1;32m   1496\u001b[0m \u001b[38;5;66;03m# If we don't have any hooks, we want to skip the rest of the logic in\u001b[39;00m\n\u001b[1;32m   1497\u001b[0m \u001b[38;5;66;03m# this function, and just call forward.\u001b[39;00m\n\u001b[1;32m   1498\u001b[0m \u001b[38;5;28;01mif\u001b[39;00m \u001b[38;5;129;01mnot\u001b[39;00m (\u001b[38;5;28mself\u001b[39m\u001b[38;5;241m.\u001b[39m_backward_hooks \u001b[38;5;129;01mor\u001b[39;00m \u001b[38;5;28mself\u001b[39m\u001b[38;5;241m.\u001b[39m_backward_pre_hooks \u001b[38;5;129;01mor\u001b[39;00m \u001b[38;5;28mself\u001b[39m\u001b[38;5;241m.\u001b[39m_forward_hooks \u001b[38;5;129;01mor\u001b[39;00m \u001b[38;5;28mself\u001b[39m\u001b[38;5;241m.\u001b[39m_forward_pre_hooks\n\u001b[1;32m   1499\u001b[0m         \u001b[38;5;129;01mor\u001b[39;00m _global_backward_pre_hooks \u001b[38;5;129;01mor\u001b[39;00m _global_backward_hooks\n\u001b[1;32m   1500\u001b[0m         \u001b[38;5;129;01mor\u001b[39;00m _global_forward_hooks \u001b[38;5;129;01mor\u001b[39;00m _global_forward_pre_hooks):\n\u001b[0;32m-> 1501\u001b[0m     \u001b[38;5;28;01mreturn\u001b[39;00m \u001b[43mforward_call\u001b[49m\u001b[43m(\u001b[49m\u001b[38;5;241;43m*\u001b[39;49m\u001b[43margs\u001b[49m\u001b[43m,\u001b[49m\u001b[43m \u001b[49m\u001b[38;5;241;43m*\u001b[39;49m\u001b[38;5;241;43m*\u001b[39;49m\u001b[43mkwargs\u001b[49m\u001b[43m)\u001b[49m\n\u001b[1;32m   1502\u001b[0m \u001b[38;5;66;03m# Do not call functions when jit is used\u001b[39;00m\n\u001b[1;32m   1503\u001b[0m full_backward_hooks, non_full_backward_hooks \u001b[38;5;241m=\u001b[39m [], []\n",
      "File \u001b[0;32m~/opt/anaconda3/envs/2060/lib/python3.10/site-packages/nflows/transforms/made.py:72\u001b[0m, in \u001b[0;36mMaskedLinear.forward\u001b[0;34m(self, x)\u001b[0m\n\u001b[1;32m     71\u001b[0m \u001b[38;5;28;01mdef\u001b[39;00m \u001b[38;5;21mforward\u001b[39m(\u001b[38;5;28mself\u001b[39m, x):\n\u001b[0;32m---> 72\u001b[0m     \u001b[38;5;28;01mreturn\u001b[39;00m \u001b[43mF\u001b[49m\u001b[38;5;241;43m.\u001b[39;49m\u001b[43mlinear\u001b[49m\u001b[43m(\u001b[49m\u001b[43mx\u001b[49m\u001b[43m,\u001b[49m\u001b[43m \u001b[49m\u001b[38;5;28;43mself\u001b[39;49m\u001b[38;5;241;43m.\u001b[39;49m\u001b[43mweight\u001b[49m\u001b[43m \u001b[49m\u001b[38;5;241;43m*\u001b[39;49m\u001b[43m \u001b[49m\u001b[38;5;28;43mself\u001b[39;49m\u001b[38;5;241;43m.\u001b[39;49m\u001b[43mmask\u001b[49m\u001b[43m,\u001b[49m\u001b[43m \u001b[49m\u001b[38;5;28;43mself\u001b[39;49m\u001b[38;5;241;43m.\u001b[39;49m\u001b[43mbias\u001b[49m\u001b[43m)\u001b[49m\n",
      "\u001b[0;31mKeyboardInterrupt\u001b[0m: "
     ]
    }
   ],
   "source": [
    "samples = posterior.sample((100,), x=observation)\n",
    "log_probability = posterior.log_prob(samples, x=observation)\n",
    "_ = analysis.pairplot(samples, limits=[[20, 160], [0, 30]], figsize=(6, 6))"
   ]
  },
  {
   "cell_type": "code",
   "execution_count": null,
   "id": "12b35098-a611-4ae5-bcb1-cd799b5dfec2",
   "metadata": {},
   "outputs": [],
   "source": []
  },
  {
   "cell_type": "markdown",
   "id": "6421e12d-1dac-4510-a4f6-68edd3753c8c",
   "metadata": {},
   "source": [
    "SNRE"
   ]
  },
  {
   "cell_type": "code",
   "execution_count": 12,
   "id": "ddacc405-5578-4368-977f-2daff6ea2450",
   "metadata": {},
   "outputs": [
    {
     "name": "stdout",
     "output_type": "stream",
     "text": [
      "Joblib will run 1 trial(s) in parallel by distributing trials over 1 jobs.\n",
      "Building the NEURON model\n",
      "[Done]\n",
      "Trial 1: 0.5 ms...\n",
      "Trial 1: 10.0 ms...\n",
      "Trial 1: 20.0 ms...\n",
      "Trial 1: 30.0 ms...\n",
      "Trial 1: 40.0 ms...\n",
      "Trial 1: 50.0 ms...\n",
      "Trial 1: 60.0 ms...\n",
      "Trial 1: 70.0 ms...\n",
      "Trial 1: 80.0 ms...\n",
      "Trial 1: 90.0 ms...\n",
      "Trial 1: 100.0 ms...\n",
      "Trial 1: 110.0 ms...\n",
      "Trial 1: 120.0 ms...\n",
      "Trial 1: 130.0 ms...\n",
      "Trial 1: 140.0 ms...\n",
      "Trial 1: 150.0 ms...\n",
      "Trial 1: 160.0 ms...\n"
     ]
    },
    {
     "data": {
      "application/vnd.jupyter.widget-view+json": {
       "model_id": "77f64f78495f42ef91167edfe682cac7",
       "version_major": 2,
       "version_minor": 0
      },
      "text/plain": [
       "Running 5 simulations.:   0%|          | 0/5 [00:00<?, ?it/s]"
      ]
     },
     "metadata": {},
     "output_type": "display_data"
    },
    {
     "name": "stdout",
     "output_type": "stream",
     "text": [
      "Joblib will run 1 trial(s) in parallel by distributing trials over 1 jobs.\n",
      "Building the NEURON model\n",
      "[Done]\n",
      "Trial 1: 0.5 ms...\n",
      "Trial 1: 10.0 ms...\n",
      "Trial 1: 20.0 ms...\n",
      "Trial 1: 30.0 ms...\n",
      "Trial 1: 40.0 ms...\n",
      "Trial 1: 50.0 ms...\n",
      "Trial 1: 60.0 ms...\n",
      "Trial 1: 70.0 ms...\n",
      "Trial 1: 80.0 ms...\n",
      "Trial 1: 90.0 ms...\n",
      "Trial 1: 100.0 ms...\n",
      "Trial 1: 110.0 ms...\n",
      "Trial 1: 120.0 ms...\n",
      "Trial 1: 130.0 ms...\n",
      "Trial 1: 140.0 ms...\n",
      "Trial 1: 150.0 ms...\n",
      "Trial 1: 160.0 ms...\n",
      "Joblib will run 1 trial(s) in parallel by distributing trials over 1 jobs.\n",
      "Building the NEURON model\n",
      "[Done]\n",
      "Trial 1: 0.5 ms...\n",
      "Trial 1: 10.0 ms...\n",
      "Trial 1: 20.0 ms...\n",
      "Trial 1: 30.0 ms...\n",
      "Trial 1: 40.0 ms...\n",
      "Trial 1: 50.0 ms...\n",
      "Trial 1: 60.0 ms...\n",
      "Trial 1: 70.0 ms...\n",
      "Trial 1: 80.0 ms...\n",
      "Trial 1: 90.0 ms...\n",
      "Trial 1: 100.0 ms...\n",
      "Trial 1: 110.0 ms...\n",
      "Trial 1: 120.0 ms...\n",
      "Trial 1: 130.0 ms...\n",
      "Trial 1: 140.0 ms...\n",
      "Trial 1: 150.0 ms...\n",
      "Trial 1: 160.0 ms...\n",
      "Joblib will run 1 trial(s) in parallel by distributing trials over 1 jobs.\n",
      "Building the NEURON model\n",
      "[Done]\n",
      "Trial 1: 0.5 ms...\n",
      "Trial 1: 10.0 ms...\n",
      "Trial 1: 20.0 ms...\n",
      "Trial 1: 30.0 ms...\n",
      "Trial 1: 40.0 ms...\n",
      "Trial 1: 50.0 ms...\n",
      "Trial 1: 60.0 ms...\n",
      "Trial 1: 70.0 ms...\n",
      "Trial 1: 80.0 ms...\n",
      "Trial 1: 90.0 ms...\n",
      "Trial 1: 100.0 ms...\n",
      "Trial 1: 110.0 ms...\n",
      "Trial 1: 120.0 ms...\n",
      "Trial 1: 130.0 ms...\n",
      "Trial 1: 140.0 ms...\n",
      "Trial 1: 150.0 ms...\n",
      "Trial 1: 160.0 ms...\n",
      "Joblib will run 1 trial(s) in parallel by distributing trials over 1 jobs.\n",
      "Building the NEURON model\n",
      "[Done]\n",
      "Trial 1: 0.5 ms...\n",
      "Trial 1: 10.0 ms...\n",
      "Trial 1: 20.0 ms...\n",
      "Trial 1: 30.0 ms...\n",
      "Trial 1: 40.0 ms...\n",
      "Trial 1: 50.0 ms...\n",
      "Trial 1: 60.0 ms...\n",
      "Trial 1: 70.0 ms...\n",
      "Trial 1: 80.0 ms...\n",
      "Trial 1: 90.0 ms...\n",
      "Trial 1: 100.0 ms...\n",
      "Trial 1: 110.0 ms...\n",
      "Trial 1: 120.0 ms...\n",
      "Trial 1: 130.0 ms...\n",
      "Trial 1: 140.0 ms...\n",
      "Trial 1: 150.0 ms...\n",
      "Trial 1: 160.0 ms...\n",
      "Joblib will run 1 trial(s) in parallel by distributing trials over 1 jobs.\n",
      "Building the NEURON model\n",
      "[Done]\n",
      "Trial 1: 0.5 ms...\n",
      "Trial 1: 10.0 ms...\n",
      "Trial 1: 20.0 ms...\n",
      "Trial 1: 30.0 ms...\n",
      "Trial 1: 40.0 ms...\n",
      "Trial 1: 50.0 ms...\n",
      "Trial 1: 60.0 ms...\n",
      "Trial 1: 70.0 ms...\n",
      "Trial 1: 80.0 ms...\n",
      "Trial 1: 90.0 ms...\n",
      "Trial 1: 100.0 ms...\n",
      "Trial 1: 110.0 ms...\n",
      "Trial 1: 120.0 ms...\n",
      "Trial 1: 130.0 ms...\n",
      "Trial 1: 140.0 ms...\n",
      "Trial 1: 150.0 ms...\n"
     ]
    },
    {
     "name": "stderr",
     "output_type": "stream",
     "text": [
      "WARNING:root:num_atoms=10 was clamped to 2; must be in [2,1] range\n"
     ]
    },
    {
     "name": "stdout",
     "output_type": "stream",
     "text": [
      "Trial 1: 160.0 ms...\n"
     ]
    },
    {
     "ename": "RuntimeError",
     "evalue": "probability tensor contains either `inf`, `nan` or element < 0",
     "output_type": "error",
     "traceback": [
      "\u001b[0;31m---------------------------------------------------------------------------\u001b[0m",
      "\u001b[0;31mRuntimeError\u001b[0m                              Traceback (most recent call last)",
      "Cell \u001b[0;32mIn[12], line 1\u001b[0m\n\u001b[0;32m----> 1\u001b[0m posterior \u001b[38;5;241m=\u001b[39m \u001b[43minfer\u001b[49m\u001b[43m(\u001b[49m\u001b[43msimulator\u001b[49m\u001b[43m,\u001b[49m\u001b[43m \u001b[49m\u001b[43m(\u001b[49m\u001b[43mprior1\u001b[49m\u001b[43m,\u001b[49m\u001b[43m \u001b[49m\u001b[43mprior2\u001b[49m\u001b[43m)\u001b[49m\u001b[43m,\u001b[49m\u001b[43m \u001b[49m\u001b[43mmethod\u001b[49m\u001b[38;5;241;43m=\u001b[39;49m\u001b[38;5;124;43m\"\u001b[39;49m\u001b[38;5;124;43mSNRE\u001b[39;49m\u001b[38;5;124;43m\"\u001b[39;49m\u001b[43m,\u001b[49m\u001b[43m \u001b[49m\u001b[43mnum_simulations\u001b[49m\u001b[38;5;241;43m=\u001b[39;49m\u001b[38;5;241;43m5\u001b[39;49m\u001b[43m)\u001b[49m\n",
      "File \u001b[0;32m~/opt/anaconda3/envs/2060/lib/python3.10/site-packages/sbi/inference/base.py:78\u001b[0m, in \u001b[0;36minfer\u001b[0;34m(simulator, prior, method, num_simulations, num_workers)\u001b[0m\n\u001b[1;32m     71\u001b[0m inference \u001b[38;5;241m=\u001b[39m method_fun(prior\u001b[38;5;241m=\u001b[39mprior)\n\u001b[1;32m     72\u001b[0m theta, x \u001b[38;5;241m=\u001b[39m simulate_for_sbi(\n\u001b[1;32m     73\u001b[0m     simulator\u001b[38;5;241m=\u001b[39msimulator,\n\u001b[1;32m     74\u001b[0m     proposal\u001b[38;5;241m=\u001b[39mprior,\n\u001b[1;32m     75\u001b[0m     num_simulations\u001b[38;5;241m=\u001b[39mnum_simulations,\n\u001b[1;32m     76\u001b[0m     num_workers\u001b[38;5;241m=\u001b[39mnum_workers,\n\u001b[1;32m     77\u001b[0m )\n\u001b[0;32m---> 78\u001b[0m _ \u001b[38;5;241m=\u001b[39m \u001b[43minference\u001b[49m\u001b[38;5;241;43m.\u001b[39;49m\u001b[43mappend_simulations\u001b[49m\u001b[43m(\u001b[49m\u001b[43mtheta\u001b[49m\u001b[43m,\u001b[49m\u001b[43m \u001b[49m\u001b[43mx\u001b[49m\u001b[43m)\u001b[49m\u001b[38;5;241;43m.\u001b[39;49m\u001b[43mtrain\u001b[49m\u001b[43m(\u001b[49m\u001b[43m)\u001b[49m\n\u001b[1;32m     79\u001b[0m posterior \u001b[38;5;241m=\u001b[39m inference\u001b[38;5;241m.\u001b[39mbuild_posterior()\n\u001b[1;32m     81\u001b[0m \u001b[38;5;28;01mreturn\u001b[39;00m posterior\n",
      "File \u001b[0;32m~/opt/anaconda3/envs/2060/lib/python3.10/site-packages/sbi/inference/snre/snre_b.py:97\u001b[0m, in \u001b[0;36mSNRE_B.train\u001b[0;34m(self, num_atoms, training_batch_size, learning_rate, validation_fraction, stop_after_epochs, max_num_epochs, clip_max_norm, resume_training, discard_prior_samples, retrain_from_scratch, show_train_summary, dataloader_kwargs)\u001b[0m\n\u001b[1;32m     65\u001b[0m \u001b[38;5;250m\u001b[39m\u001b[38;5;124mr\u001b[39m\u001b[38;5;124;03m\"\"\"Return classifier that approximates the ratio $p(\\theta,x)/p(\\theta)p(x)$.\u001b[39;00m\n\u001b[1;32m     66\u001b[0m \n\u001b[1;32m     67\u001b[0m \u001b[38;5;124;03mArgs:\u001b[39;00m\n\u001b[0;32m   (...)\u001b[0m\n\u001b[1;32m     94\u001b[0m \u001b[38;5;124;03m    Classifier that approximates the ratio $p(\\theta,x)/p(\\theta)p(x)$.\u001b[39;00m\n\u001b[1;32m     95\u001b[0m \u001b[38;5;124;03m\"\"\"\u001b[39;00m\n\u001b[1;32m     96\u001b[0m kwargs \u001b[38;5;241m=\u001b[39m del_entries(\u001b[38;5;28mlocals\u001b[39m(), entries\u001b[38;5;241m=\u001b[39m(\u001b[38;5;124m\"\u001b[39m\u001b[38;5;124mself\u001b[39m\u001b[38;5;124m\"\u001b[39m, \u001b[38;5;124m\"\u001b[39m\u001b[38;5;124m__class__\u001b[39m\u001b[38;5;124m\"\u001b[39m))\n\u001b[0;32m---> 97\u001b[0m \u001b[38;5;28;01mreturn\u001b[39;00m \u001b[38;5;28;43msuper\u001b[39;49m\u001b[43m(\u001b[49m\u001b[43m)\u001b[49m\u001b[38;5;241;43m.\u001b[39;49m\u001b[43mtrain\u001b[49m\u001b[43m(\u001b[49m\u001b[38;5;241;43m*\u001b[39;49m\u001b[38;5;241;43m*\u001b[39;49m\u001b[43mkwargs\u001b[49m\u001b[43m)\u001b[49m\n",
      "File \u001b[0;32m~/opt/anaconda3/envs/2060/lib/python3.10/site-packages/sbi/inference/snre/snre_base.py:273\u001b[0m, in \u001b[0;36mRatioEstimator.train\u001b[0;34m(self, num_atoms, training_batch_size, learning_rate, validation_fraction, stop_after_epochs, max_num_epochs, clip_max_norm, resume_training, discard_prior_samples, retrain_from_scratch, show_train_summary, dataloader_kwargs, loss_kwargs)\u001b[0m\n\u001b[1;32m    268\u001b[0m \u001b[38;5;28;01mfor\u001b[39;00m batch \u001b[38;5;129;01min\u001b[39;00m val_loader:\n\u001b[1;32m    269\u001b[0m     theta_batch, x_batch \u001b[38;5;241m=\u001b[39m (\n\u001b[1;32m    270\u001b[0m         batch[\u001b[38;5;241m0\u001b[39m]\u001b[38;5;241m.\u001b[39mto(\u001b[38;5;28mself\u001b[39m\u001b[38;5;241m.\u001b[39m_device),\n\u001b[1;32m    271\u001b[0m         batch[\u001b[38;5;241m1\u001b[39m]\u001b[38;5;241m.\u001b[39mto(\u001b[38;5;28mself\u001b[39m\u001b[38;5;241m.\u001b[39m_device),\n\u001b[1;32m    272\u001b[0m     )\n\u001b[0;32m--> 273\u001b[0m     val_losses \u001b[38;5;241m=\u001b[39m \u001b[38;5;28;43mself\u001b[39;49m\u001b[38;5;241;43m.\u001b[39;49m\u001b[43m_loss\u001b[49m\u001b[43m(\u001b[49m\n\u001b[1;32m    274\u001b[0m \u001b[43m        \u001b[49m\u001b[43mtheta_batch\u001b[49m\u001b[43m,\u001b[49m\u001b[43m \u001b[49m\u001b[43mx_batch\u001b[49m\u001b[43m,\u001b[49m\u001b[43m \u001b[49m\u001b[43mnum_atoms\u001b[49m\u001b[43m,\u001b[49m\u001b[43m \u001b[49m\u001b[38;5;241;43m*\u001b[39;49m\u001b[38;5;241;43m*\u001b[39;49m\u001b[43mloss_kwargs\u001b[49m\n\u001b[1;32m    275\u001b[0m \u001b[43m    \u001b[49m\u001b[43m)\u001b[49m\n\u001b[1;32m    276\u001b[0m     val_log_prob_sum \u001b[38;5;241m-\u001b[39m\u001b[38;5;241m=\u001b[39m val_losses\u001b[38;5;241m.\u001b[39msum()\u001b[38;5;241m.\u001b[39mitem()\n\u001b[1;32m    277\u001b[0m \u001b[38;5;66;03m# Take mean over all validation samples.\u001b[39;00m\n",
      "File \u001b[0;32m~/opt/anaconda3/envs/2060/lib/python3.10/site-packages/sbi/inference/snre/snre_b.py:111\u001b[0m, in \u001b[0;36mSNRE_B._loss\u001b[0;34m(self, theta, x, num_atoms)\u001b[0m\n\u001b[1;32m    109\u001b[0m \u001b[38;5;28;01massert\u001b[39;00m theta\u001b[38;5;241m.\u001b[39mshape[\u001b[38;5;241m0\u001b[39m] \u001b[38;5;241m==\u001b[39m x\u001b[38;5;241m.\u001b[39mshape[\u001b[38;5;241m0\u001b[39m], \u001b[38;5;124m\"\u001b[39m\u001b[38;5;124mBatch sizes for theta and x must match.\u001b[39m\u001b[38;5;124m\"\u001b[39m\n\u001b[1;32m    110\u001b[0m batch_size \u001b[38;5;241m=\u001b[39m theta\u001b[38;5;241m.\u001b[39mshape[\u001b[38;5;241m0\u001b[39m]\n\u001b[0;32m--> 111\u001b[0m logits \u001b[38;5;241m=\u001b[39m \u001b[38;5;28;43mself\u001b[39;49m\u001b[38;5;241;43m.\u001b[39;49m\u001b[43m_classifier_logits\u001b[49m\u001b[43m(\u001b[49m\u001b[43mtheta\u001b[49m\u001b[43m,\u001b[49m\u001b[43m \u001b[49m\u001b[43mx\u001b[49m\u001b[43m,\u001b[49m\u001b[43m \u001b[49m\u001b[43mnum_atoms\u001b[49m\u001b[43m)\u001b[49m\n\u001b[1;32m    113\u001b[0m \u001b[38;5;66;03m# For 1-out-of-`num_atoms` classification each datapoint consists\u001b[39;00m\n\u001b[1;32m    114\u001b[0m \u001b[38;5;66;03m# of `num_atoms` points, with one of them being the correct one.\u001b[39;00m\n\u001b[1;32m    115\u001b[0m \u001b[38;5;66;03m# We have a batch of `batch_size` such datapoints.\u001b[39;00m\n\u001b[1;32m    116\u001b[0m logits \u001b[38;5;241m=\u001b[39m logits\u001b[38;5;241m.\u001b[39mreshape(batch_size, num_atoms)\n",
      "File \u001b[0;32m~/opt/anaconda3/envs/2060/lib/python3.10/site-packages/sbi/inference/snre/snre_base.py:316\u001b[0m, in \u001b[0;36mRatioEstimator._classifier_logits\u001b[0;34m(self, theta, x, num_atoms)\u001b[0m\n\u001b[1;32m    313\u001b[0m \u001b[38;5;66;03m# Choose `1` or `num_atoms - 1` thetas from the rest of the batch for each x.\u001b[39;00m\n\u001b[1;32m    314\u001b[0m probs \u001b[38;5;241m=\u001b[39m ones(batch_size, batch_size) \u001b[38;5;241m*\u001b[39m (\u001b[38;5;241m1\u001b[39m \u001b[38;5;241m-\u001b[39m eye(batch_size)) \u001b[38;5;241m/\u001b[39m (batch_size \u001b[38;5;241m-\u001b[39m \u001b[38;5;241m1\u001b[39m)\n\u001b[0;32m--> 316\u001b[0m choices \u001b[38;5;241m=\u001b[39m \u001b[43mtorch\u001b[49m\u001b[38;5;241;43m.\u001b[39;49m\u001b[43mmultinomial\u001b[49m\u001b[43m(\u001b[49m\u001b[43mprobs\u001b[49m\u001b[43m,\u001b[49m\u001b[43m \u001b[49m\u001b[43mnum_samples\u001b[49m\u001b[38;5;241;43m=\u001b[39;49m\u001b[43mnum_atoms\u001b[49m\u001b[43m \u001b[49m\u001b[38;5;241;43m-\u001b[39;49m\u001b[43m \u001b[49m\u001b[38;5;241;43m1\u001b[39;49m\u001b[43m,\u001b[49m\u001b[43m \u001b[49m\u001b[43mreplacement\u001b[49m\u001b[38;5;241;43m=\u001b[39;49m\u001b[38;5;28;43;01mFalse\u001b[39;49;00m\u001b[43m)\u001b[49m\n\u001b[1;32m    318\u001b[0m contrasting_theta \u001b[38;5;241m=\u001b[39m theta[choices]\n\u001b[1;32m    320\u001b[0m atomic_theta \u001b[38;5;241m=\u001b[39m torch\u001b[38;5;241m.\u001b[39mcat((theta[:, \u001b[38;5;28;01mNone\u001b[39;00m, :], contrasting_theta), dim\u001b[38;5;241m=\u001b[39m\u001b[38;5;241m1\u001b[39m)\u001b[38;5;241m.\u001b[39mreshape(\n\u001b[1;32m    321\u001b[0m     batch_size \u001b[38;5;241m*\u001b[39m num_atoms, \u001b[38;5;241m-\u001b[39m\u001b[38;5;241m1\u001b[39m\n\u001b[1;32m    322\u001b[0m )\n",
      "\u001b[0;31mRuntimeError\u001b[0m: probability tensor contains either `inf`, `nan` or element < 0"
     ]
    }
   ],
   "source": [
    "posterior = infer(simulator, (prior1, prior2), method=\"SNRE\", num_simulations=5)"
   ]
  },
  {
   "cell_type": "code",
   "execution_count": null,
   "id": "f3ed6c70-1560-4c7c-a716-35f1195cc7e5",
   "metadata": {},
   "outputs": [],
   "source": [
    "samples = posterior.sample((100,), x=observation)\n",
    "log_probability = posterior.log_prob(samples, x=observation)\n",
    "_ = analysis.pairplot(samples, limits=[[20, 160], [0, 30]], figsize=(6, 6))"
   ]
  },
  {
   "cell_type": "markdown",
   "id": "5568aca4-598b-433d-a30c-c676ba35cf8f",
   "metadata": {},
   "source": [
    "--------------"
   ]
  },
  {
   "cell_type": "code",
   "execution_count": null,
   "id": "c7992cc9-a630-43a1-b86c-4acf4f1932e3",
   "metadata": {},
   "outputs": [],
   "source": []
  }
 ],
 "metadata": {
  "kernelspec": {
   "display_name": "2060",
   "language": "python",
   "name": "2060"
  },
  "language_info": {
   "codemirror_mode": {
    "name": "ipython",
    "version": 3
   },
   "file_extension": ".py",
   "mimetype": "text/x-python",
   "name": "python",
   "nbconvert_exporter": "python",
   "pygments_lexer": "ipython3",
   "version": "3.10.7"
  }
 },
 "nbformat": 4,
 "nbformat_minor": 5
}
